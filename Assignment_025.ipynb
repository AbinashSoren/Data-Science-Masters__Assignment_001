{
 "cells": [
  {
   "cell_type": "code",
   "execution_count": null,
   "id": "00056deb-bd62-426d-9744-0d92c76b3607",
   "metadata": {},
   "outputs": [],
   "source": [
    "# Q1. What are the three measures of central tendency?\n",
    "\n",
    "A measure of central tendency is a summary measre that attempts to \n",
    "describe a whole set of data with a single value that represents the middle\n",
    "or center of its distribution.\n",
    "\n",
    "\n",
    "There are 3 main measures of central tendency :\n",
    "    1.Mode\n",
    "    2.Median\n",
    "    3.Mean\n",
    "    "
   ]
  },
  {
   "cell_type": "code",
   "execution_count": null,
   "id": "10528481-9b42-4cdf-8f38-3478459e2a0f",
   "metadata": {},
   "outputs": [],
   "source": [
    "# Q2. What is the difference between the mean, median, and mode? How are they used to measure the\n",
    "# central tendency of a dataset?\n",
    "\n",
    "There are 3 main measures of central tendency :\n",
    "    1.Mode\n",
    "    2.Median\n",
    "    3.Mean\n",
    "    \n",
    "Mode:The Mode is the most commonly occuuring value in a distribution.   \n",
    "The mode has an advantage over the median and the mean as it can be \n",
    "found for both numerical and categorical (non-numerical) data. \n",
    "\n",
    "Example:\n",
    "import seaborn as sns\n",
    "import pandas as pd\n",
    "\n",
    "df=sns.load_dataset('tips')\n",
    "#Print the day on which the maximum customer's present\n",
    "print(df['day'].mode()[0])\n",
    "#output: Sat\n",
    "\n",
    "Median:\n",
    "The median is the middle value in distribution when the values are \n",
    "arranged in ascending or descending order.\n",
    "\n",
    "The median divides the distribution in half (there are 50% of \n",
    "observations on either side of the median value). \n",
    "In a distribution with an odd number of observations, the median\n",
    "value is the middle value .\n",
    "When the distribution has an even number of observations, the median\n",
    "value is the mean of the two middle values.\n",
    "The median is less affected by outliers and skewed data than the mean\n",
    "and is usually the preferred measure of central tendency when the\n",
    "distribution is not symmetrical.\n",
    "Example:\n",
    "import seaborn as sns\n",
    "import pandas as pd\n",
    "\n",
    "df=sns.load_dataset('tips')\n",
    "#what is the 50th percentile value of total_bill columns\n",
    "print(df['total_bill'].median())\n",
    "\n",
    "\n",
    "Mean:The mean is the sum of the value of each observation in a\n",
    "dataset divided by the number of observations. This is also known as\n",
    "the arithmetic average. \n",
    "The mean can be used for both continuous and discrete numeric data.\n",
    "\n",
    "Example:\n",
    "import seaborn as sns\n",
    "import pandas as pd\n",
    "\n",
    "df=sns.load_dataset('tips')\n",
    "#what is the average tip in the restaurnt  ?\n",
    "print(df['total_bill'].mean())\n"
   ]
  },
  {
   "cell_type": "code",
   "execution_count": 6,
   "id": "e3b0ccbe-9f3c-4dc8-a64c-cb3c8acadef6",
   "metadata": {},
   "outputs": [
    {
     "name": "stdout",
     "output_type": "stream",
     "text": [
      "   total_bill   tip     sex smoker  day    time  size\n",
      "0       16.99  1.01  Female     No  Sun  Dinner     2\n",
      "1       10.34  1.66    Male     No  Sun  Dinner     3\n",
      "2       21.01  3.50    Male     No  Sun  Dinner     3\n",
      "3       23.68  3.31    Male     No  Sun  Dinner     2\n",
      "4       24.59  3.61  Female     No  Sun  Dinner     4\n",
      "17.795\n"
     ]
    }
   ],
   "source": [
    "# Q3. Measure the three measures of central tendency for the given height data:\n",
    "# [178,177,176,177,178.2,178,175,179,180,175,178.9,176.2,177,172.5,178,176.5]"
   ]
  },
  {
   "cell_type": "code",
   "execution_count": 11,
   "id": "db759fde-f0b3-4867-a6e7-52eaed11dc9b",
   "metadata": {},
   "outputs": [
    {
     "name": "stdout",
     "output_type": "stream",
     "text": [
      "The most common Height's  are: [177.0, 178.0]\n"
     ]
    }
   ],
   "source": [
    "import pandas as pd\n",
    "hei=[178,177,176,177,178.2,178,175,179,180,175,178.9,176.2,177,172.5,178,176.5]\n",
    "df=pd.DataFrame({'Height':hei})\n",
    "# print(df.head(20))\n",
    "\n",
    "print('The average Height is : {}'.format(df['Height'].mean()))\n",
    "print('The most common Height\\'s  are: {}'.format(df['Height'].mode().to_list()))\n",
    "print('The 50th percentile value of  Height is : {}'.format(df['Height'].median()))"
   ]
  },
  {
   "cell_type": "code",
   "execution_count": 12,
   "id": "ceb8ff9b-74ed-49e7-a83b-8e18196a6186",
   "metadata": {},
   "outputs": [
    {
     "name": "stdout",
     "output_type": "stream",
     "text": [
      "The Standard Deviation of the Height's column is 1.847238930584419\n"
     ]
    }
   ],
   "source": [
    "# Q4. Find the standard deviation for the given data:\n",
    "# [178,177,176,177,178.2,178,175,179,180,175,178.9,176.2,177,172.5,178,176.5]\n",
    "\n",
    "import pandas as pd\n",
    "hei=[178,177,176,177,178.2,178,175,179,180,175,178.9,176.2,177,172.5,178,176.5]\n",
    "df=pd.DataFrame({'Height':hei})\n",
    "print('The Standard Deviation of the Height\\'s column is {}'.format(df['Height'].std()))"
   ]
  },
  {
   "cell_type": "code",
   "execution_count": null,
   "id": "c5e748b7-86ee-48f3-b259-86544a0dc752",
   "metadata": {},
   "outputs": [],
   "source": [
    "# Q5. How are measures of dispersion such as range, variance, and standard deviation used to describe\n",
    "# the spread of a dataset? Provide an example.\n",
    "\n",
    "Dispersion is the state of getting dispersed or spread. Statistical\n",
    "dispersion means the extent to which numerical data is likely to vary\n",
    "about an average value. In other words, dispersion helps to understand\n",
    "the distribution of the data.\n",
    "\n",
    "Range:Given a data set, the range can be defined as the difference \n",
    "between the maximum value and the minimum value.\n",
    "\n",
    "Example:\n",
    "import seaborn as sns\n",
    "import pandas as pd\n",
    "\n",
    "df=sns.load_dataset('tips')\n",
    "\n",
    "print('The Range of Total Bill in the restaurant {}'.format(df['total_bill'].max()-df['total_bill'].min()))\n",
    "\n",
    "\n",
    "Variance: The average squared deviation from the mean of the given \n",
    "data set is known as the variance. This measure of dispersion checks \n",
    "the spread of the data about the mean.Variance: The average squared \n",
    "deviation from the mean of the given data set is known as the variance.\n",
    "This measure of dispersion checks the spread of the data about the \n",
    "mean.\n",
    "\n",
    "Example:\n",
    "import seaborn as sns\n",
    "import pandas as pd\n",
    "\n",
    "df=sns.load_dataset('tips')\n",
    "\n",
    "print('The Variance of Total Bill in the restaurant {}'.format(round(df['total_bill'].var(),2)))\n",
    "\n",
    "Standard Deviation: The square root of the variance gives the standard\n",
    "deviation. Thus, the standard deviation also measures the variation \n",
    "of the data about the mean.\n",
    "Example:\n",
    "\n",
    "import seaborn as sns\n",
    "import pandas as pd\n",
    "\n",
    "df=sns.load_dataset('tips')\n",
    "\n",
    "print('The Standard Deviation of Total Bill in the restaurant {}'.format(round(df['total_bill'].std(),2)))\n"
   ]
  },
  {
   "cell_type": "code",
   "execution_count": 21,
   "id": "b834d99a-928b-483b-8acb-3bf3fba83b39",
   "metadata": {},
   "outputs": [
    {
     "name": "stdout",
     "output_type": "stream",
     "text": [
      "The Variance of Total Bill in the restaurant 79.25\n"
     ]
    }
   ],
   "source": [
    "# Q6. What is a Venn diagram?\n",
    "A Venn diagram uses overlapping circles or other shapes to\n",
    "illustrate the logical relationships between two or more sets of \n",
    "items.\n",
    "Venn diagrams, also called Set diagrams or Logic diagrams, are \n",
    "widely used in mathematics, statistics, logic, teaching, linguistics,\n",
    "computer science and business."
   ]
  },
  {
   "cell_type": "code",
   "execution_count": 25,
   "id": "97c24da0-9de1-461d-903a-53f7e37bedb6",
   "metadata": {},
   "outputs": [
    {
     "name": "stdout",
     "output_type": "stream",
     "text": [
      "{2, 6}\n",
      "{0, 2, 3, 4, 5, 6, 7, 8, 10}\n"
     ]
    }
   ],
   "source": [
    "# Q7. For the two given sets A = (2,3,4,5,6,7) & B = (0,2,6,8,10). Find:\n",
    "# (i) A intersection B\n",
    "# (ii) A union B\n",
    "\n",
    "A={2,3,4,5,6,7}\n",
    "B ={0,2,6,8,10}\n",
    "\n",
    "print(A.intersection(B))\n",
    "print(A.union(B))"
   ]
  },
  {
   "cell_type": "code",
   "execution_count": null,
   "id": "81dacb74-195e-4aa6-8676-e4e9ee0448f9",
   "metadata": {},
   "outputs": [],
   "source": [
    "# Q8. What do you understand about skewness in data?\n",
    "Skewness is a measure of asymmetry or distortion of symmetric\n",
    "distribution. It measures the deviation of the given distribution of\n",
    "a random variable from a symmetric distribution, such as normal\n",
    "distribution. A normal distribution is without any skewness, as it is\n",
    "symmetrical on both sides. \n",
    "\n",
    "\n",
    "It simple terms, it tells us that how much similar it is to \n",
    "a Normal Distrubution.More the similarity to a Normal Distribuution \n",
    ",the skewnees moves towards 0."
   ]
  },
  {
   "cell_type": "code",
   "execution_count": null,
   "id": "29866a39-a33e-49d7-8944-7171260675ef",
   "metadata": {},
   "outputs": [],
   "source": [
    "# Q9. If a data is right skewed then what will be the position of median with respect to mean?\n",
    "\n",
    "Mode will be the Highest and also greater than Median.The Median will be greater than Mean."
   ]
  },
  {
   "cell_type": "code",
   "execution_count": null,
   "id": "1e74cf4f-bbe9-4065-b329-b53d432070ff",
   "metadata": {},
   "outputs": [],
   "source": [
    "# Q10. Explain the difference between covariance and correlation. How are these measures used in\n",
    "# statistical analysis?\n",
    "\n",
    "Covariance is a quantitative measure of the degree to which the \n",
    "deviation of one variable (X) from its mean is related to the \n",
    "deviation of another variable (Y) from its mean. \n",
    "\n",
    "In simple words,it measures the direction of a relationship\n",
    "between 2 variables.\n",
    "\n",
    "Example:\n",
    "Relationship between to 2 variables i.e(Height of a Person vs Weight of a Person).\n",
    "As the Height of person tends to increase,tendecy of increase in weight\n",
    "increases.\n",
    "\n",
    "import seaborn as sns\n",
    "import pandas as pd\n",
    "import numpy as np\n",
    "\n",
    "df=sns.load_dataset('tips')\n",
    "#find out that if there is a relation beween total_bill and tip\n",
    "print(round(np.cov(df['total_bill'],df['tip'])[0][1],2))#we can see that since the output is positive,but we don't know about the strenght as the output lies between -inf to +inf\n",
    "\n",
    "\n",
    "Correlation tells us both the strength and the direction of this \n",
    "relationship. Correlation is best used for multiple variables that \n",
    "express a linear relationship with one another. When we assume a\n",
    "correlation between two variables, we are essentially deducing that a\n",
    "change in one variable impacts a change in another variable. \n",
    "\n",
    "Correlation helps us to determine whether or not, and how strongly, \n",
    "changes in various variables relate to each other.\n",
    "\n",
    "\n",
    "Example:\n",
    "If you consider the two variables “Hours spent exercising” and\n",
    "“cardio fitness level,” you’ll see that the correlation coefficient\n",
    "is 0.82. This indicates a strong positive correlation between the two \n",
    "variables—which makes sense, right? The more you exercise, the more\n",
    "you’d expect your cardio fitness to increase. At the same time, the \n",
    "correlation coefficient when comparing “Hours spent exercising” to\n",
    "“Height” is 0.03, indicating that there’s no association between how \n",
    "tall someone is and how often they exercise.\n",
    "\n",
    "import seaborn as sns\n",
    "import pandas as pd\n",
    "import numpy as np\n",
    "\n",
    "df=sns.load_dataset('tips')\n",
    "#find out that if there is a relation beween total_bill and tip.And if yes ,how much ?\n",
    "print(round(np.corrcoef(df['total_bill'],df['tip'])[0][1],2))#we can see that since the output is positive,we can say that the strenght between the total_bill and tips is more,since it is closer to 1.And the outputranges from -1 to +1."
   ]
  },
  {
   "cell_type": "code",
   "execution_count": null,
   "id": "05ddc86b-b123-4afc-acd5-b5d2af9a2c52",
   "metadata": {},
   "outputs": [],
   "source": [
    "# Q11. What is the formula for calculating the sample mean? Provide an example calculation for a\n",
    "# dataset.\n",
    "\n"
   ]
  },
  {
   "cell_type": "code",
   "execution_count": 51,
   "id": "4adea994-a5bb-4857-aa42-3793acd1c7c9",
   "metadata": {},
   "outputs": [
    {
     "name": "stdout",
     "output_type": "stream",
     "text": [
      "Average Total_Bill of all the people 20\n",
      "Average Total_Bill of 100 random  people 20\n"
     ]
    }
   ],
   "source": [
    "import seaborn as sns\n",
    "import pandas as pd\n",
    "import numpy as np\n",
    "\n",
    "df=sns.load_dataset('tips')\n",
    "print('Average Total_Bill of all the people',round(df['total_bill'].mean()))\n",
    "#Taking Random sample from the dataset\n",
    "new_df=df['total_bill'].sample(n=100)\n",
    "# print average total_bill from a sample of 100 people\n",
    "print('Average Total_Bill of 100 random  people',round(new_df.mean()))\n"
   ]
  },
  {
   "cell_type": "code",
   "execution_count": 95,
   "id": "8ad403be-b846-4f88-a058-c84b1ba94826",
   "metadata": {},
   "outputs": [
    {
     "name": "stdout",
     "output_type": "stream",
     "text": [
      "-0.3052377055950618\n",
      "-0.21795694751291228\n",
      "0.7715023188092242\n"
     ]
    }
   ],
   "source": [
    "# Q12. For a normal distribution data what is the relationship between its measure of central tendency?\n",
    "\n",
    "# Usually for normal distribution, the mean,median and mode are somewhat equal\n",
    "\n",
    "import numpy as np\n",
    "import pandas as pd\n",
    "import statistics as stat\n",
    "li=np.random.normal(loc=0,scale=10,size=100)\n",
    "df=pd.DataFrame({'num':li})\n",
    "\n",
    "print(df['num'].mean())\n",
    "print(df['num'].median())\n",
    "print(stat.mode(df['num']))"
   ]
  },
  {
   "cell_type": "code",
   "execution_count": null,
   "id": "6a970d50-4e4a-4326-8a79-f4a5de4219a9",
   "metadata": {},
   "outputs": [],
   "source": [
    "# Q13. How is covariance different from correlation?\n",
    "Basis for comparison                          Covariance                                                                     Correlation\n",
    "\n",
    "\n",
    "Definition                                    Covariance is an indicator of the extent to which                             Correlation is a statistical measure that indicates \n",
    "                                              2 random variables are dependent on each other.                               how strongly two variables are related.\n",
    "                                              A higher number denotes higher dependency.\n",
    "\n",
    "\n",
    "Values                                        The value of covariance lies in the range of -∞ and +∞.                      Correlation is limited to values between the range -1 and +1\n",
    "\n",
    "Change in scale                               Affects covariance                                                           Does not affect the correlation\n",
    "\n",
    "\n",
    "Unit-free measure                              No                                                                              Yes                                                                         \n",
    "\n",
    "\n",
    "\n",
    "\n"
   ]
  },
  {
   "cell_type": "code",
   "execution_count": 113,
   "id": "27f6f7e0-bc28-4dd3-a10d-fb15d53b63b4",
   "metadata": {},
   "outputs": [
    {
     "name": "stdout",
     "output_type": "stream",
     "text": [
      "The mean without outlier is 0.0\n",
      "The mean with outlier is 45.45454545454545\n",
      "The median without outlier is 0.0\n",
      "The median with outlier is 5.0\n",
      "The mode without outlier is -100\n",
      "The mode with outlier is -100\n"
     ]
    }
   ],
   "source": [
    "# Q14. How do outliers affect measures of central tendency and dispersion? Provide an example.\n",
    "\n",
    "Mean is significantly affected by outlier's .\n",
    "Meadian is affected but not that much.\n",
    "Mode is remains unaffected.\n",
    "\n",
    "import numpy as np\n",
    "import pandas as pd\n",
    "import statistics as stat\n",
    "li_without_outlier=[-100,-90,-80,-70,-60,-50,-40,-30,-20,-10,0,10,20,30,40,50,60,70,80,90,100]\n",
    "li_with_outlier=li_without_outlier+[1000]\n",
    "# print(li_with_outlier)\n",
    "\n",
    "df=pd.DataFrame({'num':li_without_outlier})\n",
    "df_outlier=pd.DataFrame({'num':li_with_outlier})\n",
    "\n",
    "\n",
    "print('The mean without outlier is {}'.format(df['num'].mean()))\n",
    "print('The mean with outlier is {}'.format(df_outlier['num'].mean()))\n",
    "\n",
    "print('The median without outlier is {}'.format(df['num'].median()))\n",
    "print('The median with outlier is {}'.format(df_outlier['num'].median()))\n",
    "\n",
    "print('The mode without outlier is {}'.format(stat.mode(df['num'])))\n",
    "print('The mode with outlier is {}'.format(stat.mode(df_outlier['num'])))\n"
   ]
  },
  {
   "cell_type": "code",
   "execution_count": null,
   "id": "91df1ec3-5a28-4ab6-b0d2-e051a4d73f9c",
   "metadata": {},
   "outputs": [],
   "source": []
  },
  {
   "cell_type": "code",
   "execution_count": null,
   "id": "49daa8e7-1b71-4cb5-87a2-9f5c03534594",
   "metadata": {},
   "outputs": [],
   "source": []
  }
 ],
 "metadata": {
  "kernelspec": {
   "display_name": "Python 3 (ipykernel)",
   "language": "python",
   "name": "python3"
  },
  "language_info": {
   "codemirror_mode": {
    "name": "ipython",
    "version": 3
   },
   "file_extension": ".py",
   "mimetype": "text/x-python",
   "name": "python",
   "nbconvert_exporter": "python",
   "pygments_lexer": "ipython3",
   "version": "3.10.8"
  }
 },
 "nbformat": 4,
 "nbformat_minor": 5
}
