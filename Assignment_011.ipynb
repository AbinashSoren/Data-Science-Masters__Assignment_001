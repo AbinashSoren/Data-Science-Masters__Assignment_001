{
 "cells": [
  {
   "cell_type": "code",
   "execution_count": null,
   "id": "7330fd14-f472-4e43-b81d-92567b3f238e",
   "metadata": {},
   "outputs": [],
   "source": [
    "Q1. Which function is used to open a file? What are the different modes of opening a file? Explain each mode\n",
    "of file opening.\n",
    "\n",
    "The open() function opens a file and return it as a file object.\n",
    "\n",
    "Syntax:\n",
    "open(file,mode)\n",
    "file:The path and the name of the file\n",
    "mode:The mode refers to how the user wants to open the file.\n",
    "It can be ('r':read,'w':write ..)\n",
    "\n",
    "For E.g: \n",
    "with open('test_file','w') as f:\n",
    "    pass\n",
    "\n",
    "\n",
    "There are various mode a user can open a file.Some of the mode are:\n",
    "'r': Read:-The user wants to open a file in read mode,the file will only open if the file already exists.\n",
    "'rb': ReadBinary:-The user wants to open a file in read mode which is in binary format,the file will only open if the file already exists.\n",
    "'r+':ReadWrite:-The user wants to open the file in read write mode simultaneously.\n",
    "'rb+':ReadWriteBinary:-The user wants to open a binary formatted file in read write mode simultaneously.\n",
    "\n",
    "'a': Append:-The user wants to open a file to append some text in the file, if the file does not exsist , the the file will be created automatically.\n",
    "'ab':AppendBinary:-The user wants to open a binary formatted file in append mode.\n",
    "'a+':AppendRead:The user wants to open the file in read append mode simultaneously.\n",
    "'ab+':ReadAppendBinary:-The user wants to open a binary formatted file in read append mode simultaneously.\n",
    "\n",
    "'w': Write:-The user wants to open a file to write in a file ,the system will create file.\n",
    "'wb':WriteBinary: The user wants to open a binary formatted file in write mode.\n",
    "'w+':WriteRead:The user wants to open the file in read write mode simultaneously.\n",
    "'wb+':WriteReadBinary:The user wants to open a binary formatted file in read write mode simultaneously.\n"
   ]
  },
  {
   "cell_type": "code",
   "execution_count": null,
   "id": "26b6ab6f-669e-4c8f-8827-2033ea654861",
   "metadata": {},
   "outputs": [],
   "source": [
    "Q2. Why close() function is used? Why is it important to close a file?\n",
    "The close() method closes an open file.A closed file cannot be read\n",
    "or write anymore.After closing the file ,on doing any operation\n",
    "a ValueError will be raised.\n",
    "\n",
    "All though the file closes automatically ,it is a standard \n",
    "practice to close the file as it reduce the risk of \n",
    "unwanted modification and read."
   ]
  },
  {
   "cell_type": "code",
   "execution_count": 1,
   "id": "7f1ecf58-39ac-4876-afbe-d6acc9d8291c",
   "metadata": {},
   "outputs": [
    {
     "name": "stdout",
     "output_type": "stream",
     "text": [
      "I want to become a Data Scientist\n"
     ]
    }
   ],
   "source": [
    "# Q3. Write a python program to create a text file. Write ‘I want to become a Data Scientist’ in that file. Then\n",
    "# close the file. Open this file and read the content of the file.\n",
    "\n",
    "with open('test_file','w') as f:\n",
    "    f.write('I want to become a Data Scientist')\n",
    "\n",
    "with open('test_file','r') as f:\n",
    "    print(f.read())"
   ]
  },
  {
   "cell_type": "code",
   "execution_count": null,
   "id": "ee6c3621-d977-4329-98d9-6f60850d1702",
   "metadata": {},
   "outputs": [],
   "source": [
    "Q4. Explain the following with python code: read(), readline() and readlines().\n",
    "\n",
    "read():By default, read() is used to return the whole text present in the file.\n",
    "read(10):When we pass any integer in read(), then the fuunction returns 10 character in from the file.\n",
    "\n",
    "readline(): Returns a single line from the file.\n",
    "\n",
    "readlines(hint):Returns a list containing each line in the file as a list item.\n",
    "hint:Optional. If the number of bytes returned exceed the hint number, no more lines will be returned."
   ]
  },
  {
   "cell_type": "code",
   "execution_count": null,
   "id": "072a9f19-ed31-4ac8-bd04-6130da963fd4",
   "metadata": {},
   "outputs": [],
   "source": [
    "Q5. Explain why with statement is used with open(). What is the advantage of using with statement and\n",
    "open() together?\n",
    "\n",
    "The with statement works with the open() function to open a \n",
    "file.\n",
    "Unlike open() where we have to close the file with the close() method,\n",
    "we dont need to expilicilty close the file. \n",
    "\n",
    "with open('test_file','w') as f:\n",
    "    f.write('I want to become a Data Scientist')\n"
   ]
  },
  {
   "cell_type": "code",
   "execution_count": null,
   "id": "3c20b865-b3d8-42ee-bdfb-e9f39e0059af",
   "metadata": {},
   "outputs": [],
   "source": [
    "Q6. Explain the write() and writelines() functions. Give a suitable example.\n",
    "\n",
    "write() is used to write a single line in a opened file.\n",
    "\n",
    "with open('test_file_1','w') as f:\n",
    "    for i in range(1,6):\n",
    "        f.write('Hello ..This has been written in a file\\n')\n",
    "\n",
    "        \n",
    "writelines(): is used to write a list of strings in an opened file.\n",
    "\n",
    "final_list=[]\n",
    "with open('test_file_1','w') as f:\n",
    "    for i in range(1,6):\n",
    "        final_list.append('Hello ..This has been written in a file {} times\\n'.format(i))\n",
    "    f.writelines(final_list)\n",
    "   "
   ]
  },
  {
   "cell_type": "code",
   "execution_count": 6,
   "id": "3e2509b4-06a1-4608-be11-85fac43e774e",
   "metadata": {},
   "outputs": [],
   "source": [
    " \n",
    "    "
   ]
  },
  {
   "cell_type": "code",
   "execution_count": null,
   "id": "2a427238-7a38-4bb2-8192-fce633677590",
   "metadata": {},
   "outputs": [],
   "source": []
  }
 ],
 "metadata": {
  "kernelspec": {
   "display_name": "Python 3 (ipykernel)",
   "language": "python",
   "name": "python3"
  },
  "language_info": {
   "codemirror_mode": {
    "name": "ipython",
    "version": 3
   },
   "file_extension": ".py",
   "mimetype": "text/x-python",
   "name": "python",
   "nbconvert_exporter": "python",
   "pygments_lexer": "ipython3",
   "version": "3.10.8"
  }
 },
 "nbformat": 4,
 "nbformat_minor": 5
}
