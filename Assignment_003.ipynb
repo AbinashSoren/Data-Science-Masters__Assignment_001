{
 "cells": [
  {
   "cell_type": "code",
   "execution_count": 4,
   "id": "7917099b-7c20-4fca-a912-7e2d98c68d37",
   "metadata": {},
   "outputs": [
    {
     "name": "stdin",
     "output_type": "stream",
     "text": [
      "Enter the Percentage 67\n"
     ]
    },
    {
     "name": "stdout",
     "output_type": "stream",
     "text": [
      "Your Grade is : C\n"
     ]
    }
   ],
   "source": [
    "# Write a program to accept percentage from the user and display the grade according to the following \n",
    "\n",
    "\n",
    "perc=int(input('Enter the Percentage'))\n",
    "\n",
    "if perc>90:\n",
    "    print('Your Grade is :','A')\n",
    "elif perc>80 and perc<=90:\n",
    "    print('Your Grade is :','B')\n",
    "elif perc>=60 and perc<=80:\n",
    "    print('Your Grade is :','C')\n",
    "else:\n",
    "    print('Your Grade is :','D')"
   ]
  },
  {
   "cell_type": "code",
   "execution_count": 6,
   "id": "6ec227b1-32a3-4d15-a872-335baaf9bb10",
   "metadata": {},
   "outputs": [
    {
     "name": "stdin",
     "output_type": "stream",
     "text": [
      "Enter the Cost Price 75000\n"
     ]
    },
    {
     "name": "stdout",
     "output_type": "stream",
     "text": [
      "The Road Tax of the Vehicle is : 82500.0\n"
     ]
    }
   ],
   "source": [
    "# 2. Write a program to accept the cost price of a bike and display the road tax to be paid according to the \n",
    "# following criteria:\n",
    "\n",
    "cp=int(input('Enter the Cost Price'))\n",
    "cost=0\n",
    "if cp>100000:\n",
    "    cost=(cp*115)/100\n",
    "elif cp>50000 and cp<=100000:\n",
    "    cost=(cp*110)/100\n",
    "else:\n",
    "    cost=(cp*105)/100\n",
    "\n",
    "print('The Road Tax of the Vehicle is :',cost)"
   ]
  },
  {
   "cell_type": "code",
   "execution_count": 11,
   "id": "b36dc214-8c51-4668-85d9-389176cb8904",
   "metadata": {},
   "outputs": [
    {
     "name": "stdin",
     "output_type": "stream",
     "text": [
      "Enter the city name  agra\n"
     ]
    },
    {
     "name": "stdout",
     "output_type": "stream",
     "text": [
      "The Monument in Agra is  Taj Mahal\n"
     ]
    }
   ],
   "source": [
    "# 3. Accept any city from the user and display monuments of that city\n",
    "\n",
    "city=input('Enter the city name ')\n",
    "city=city.title()\n",
    "if city=='Delhi':\n",
    "    print('The Monument in Delhi is  Red Fort')\n",
    "elif city=='Agra':\n",
    "    print('The Monument in Agra is  Taj Mahal')\n",
    "elif city=='Jaipur':\n",
    "    print('The Monument in Jaipur is Jal Mahal')\n",
    "else:\n",
    "    print(\"Invalid City\")"
   ]
  },
  {
   "cell_type": "code",
   "execution_count": 27,
   "id": "351fa4de-18f1-405e-bfb0-f668ee27ddb9",
   "metadata": {},
   "outputs": [
    {
     "name": "stdin",
     "output_type": "stream",
     "text": [
      "Enter the number 99\n"
     ]
    },
    {
     "name": "stdout",
     "output_type": "stream",
     "text": [
      "2\n"
     ]
    }
   ],
   "source": [
    "num=int(input('Enter the number'))\n",
    "count=0\n",
    "while num>=10:\n",
    "    if num%3==0:\n",
    "        num=num/3\n",
    "        count+=1\n",
    "    else:\n",
    "        break\n",
    "print(count)        "
   ]
  },
  {
   "cell_type": "code",
   "execution_count": 24,
   "id": "1154235b-830f-48d2-bd3d-cfe71ff2d520",
   "metadata": {},
   "outputs": [
    {
     "data": {
      "text/plain": [
       "111"
      ]
     },
     "execution_count": 24,
     "metadata": {},
     "output_type": "execute_result"
    }
   ],
   "source": [
    " # Why and When to Use while Loop in Python give a detailed description with example\n",
    "While is used when the number of iteration is not known,\n",
    "the loop runs untill , the condtion is True,\n",
    "\n",
    "For Example:\n",
    "    i=0\n",
    "    while i<=10:\n",
    "        print(i)\n",
    "        i+=1\n",
    "        "
   ]
  },
  {
   "cell_type": "code",
   "execution_count": 30,
   "id": "8bded693-ee37-439a-b2e6-0b8cc2a803db",
   "metadata": {},
   "outputs": [
    {
     "name": "stdout",
     "output_type": "stream",
     "text": [
      "* * * * * \n",
      "\n",
      "* * * * * \n",
      "\n",
      "* * * * * \n",
      "\n",
      "* * * * * \n",
      "\n",
      "* * * * * \n",
      "\n",
      "* \n",
      "\n",
      "* * \n",
      "\n",
      "* * * \n",
      "\n",
      "* * * * \n",
      "\n",
      "* * * * * \n",
      "\n",
      "          * \n",
      "\n",
      "        * * \n",
      "\n",
      "      * * * \n",
      "\n",
      "    * * * * \n",
      "\n",
      "  * * * * * \n",
      "\n"
     ]
    }
   ],
   "source": [
    "# Pattern1:\n",
    "\n",
    "for i in range(1,6):\n",
    "    for j in range(1,6):\n",
    "        print('*',end=' ')\n",
    "    print('\\n')    \n",
    "\n",
    "# Pattern2:\n",
    "\n",
    "for i in range(1,6):\n",
    "    for j in range(1,i+1):\n",
    "        print('*',end=' ')\n",
    "    print('\\n')    \n",
    "    \n",
    "# Pattern3\n",
    "for i in range(1,6):\n",
    "    for j in range(1,6-i+1):\n",
    "        print(' ',end=' ')\n",
    "    for k in range(1,i+1):\n",
    "        print('*',end=' ')\n",
    "    print('\\n')    \n",
    "\n"
   ]
  },
  {
   "cell_type": "code",
   "execution_count": 31,
   "id": "360d7856-8b43-4b35-ba8e-1fe34acd5939",
   "metadata": {},
   "outputs": [
    {
     "name": "stdout",
     "output_type": "stream",
     "text": [
      "10 9 8 7 6 5 4 3 2 1 "
     ]
    }
   ],
   "source": [
    "# 7 Reverse a while loop to display numbers from 10 to 1\n",
    "\n",
    "i=10\n",
    "while i>=1:\n",
    "    print(i,end=' ')\n",
    "    i-=1\n",
    "    "
   ]
  },
  {
   "cell_type": "code",
   "execution_count": null,
   "id": "489b349c-4fb7-474b-9d73-0abdb395b877",
   "metadata": {},
   "outputs": [],
   "source": [
    "# 8 Reverse a while loop to display numbers from 10 to 1\n",
    "\n",
    "i=10\n",
    "while i>=1:\n",
    "    print(i,end=' ')\n",
    "    i-=1\n",
    "    "
   ]
  }
 ],
 "metadata": {
  "kernelspec": {
   "display_name": "Python 3 (ipykernel)",
   "language": "python",
   "name": "python3"
  },
  "language_info": {
   "codemirror_mode": {
    "name": "ipython",
    "version": 3
   },
   "file_extension": ".py",
   "mimetype": "text/x-python",
   "name": "python",
   "nbconvert_exporter": "python",
   "pygments_lexer": "ipython3",
   "version": "3.10.8"
  }
 },
 "nbformat": 4,
 "nbformat_minor": 5
}
