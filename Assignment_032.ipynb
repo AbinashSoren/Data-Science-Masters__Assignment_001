{
 "cells": [
  {
   "cell_type": "code",
   "execution_count": 1,
   "id": "67cbf2c0-c163-40c2-a544-6bf91c92a386",
   "metadata": {},
   "outputs": [
    {
     "name": "stdout",
     "output_type": "stream",
     "text": [
      "F-value: 1.385\n",
      "p-value: 0.273\n"
     ]
    }
   ],
   "source": [
    "# Q1. Write a Python function that takes in two arrays of data and calculates the F-value for a variance ratio\n",
    "# test. The function should return the F-value and the corresponding p-value for the test.\n",
    "\n",
    "import numpy as np\n",
    "from scipy.stats import f_oneway\n",
    "\n",
    "def variance_ratio_test(x, y):\n",
    "    # Calculate the variances and means for each group\n",
    "    var_x = np.var(x, ddof=1)\n",
    "    var_y = np.var(y, ddof=1)\n",
    "    mean_x = np.mean(x)\n",
    "    mean_y = np.mean(y)\n",
    "    \n",
    "    # Calculate the F-value and p-value\n",
    "    f_value, p_value = f_oneway(x, y)\n",
    "    \n",
    "    # Print the results\n",
    "    print(\"F-value: {:.3f}\".format(f_value))\n",
    "    print(\"p-value: {:.3f}\".format(p_value))\n",
    "    \n",
    "x = [3, 6, 9, 12, 15]\n",
    "y = [2, 4, 6, 8, 10]\n",
    "\n",
    "variance_ratio_test(x, y)"
   ]
  },
  {
   "cell_type": "code",
   "execution_count": 2,
   "id": "aefcb90d-6dde-465d-8a49-97ccd6ed0054",
   "metadata": {},
   "outputs": [
    {
     "data": {
      "text/plain": [
       "(0.4821731542972622, 2.0739437504716305)"
      ]
     },
     "execution_count": 2,
     "metadata": {},
     "output_type": "execute_result"
    }
   ],
   "source": [
    "# Q2. Given a significance level of 0.05 and the degrees of freedom for the numerator and denominator of an\n",
    "# F-distribution, write a Python function that returns the critical F-value for a two-tailed test.\n",
    "\n",
    "\n",
    "from scipy.stats import f\n",
    "\n",
    "def critical_f(alpha, dfn, dfd):\n",
    "    return f.ppf(alpha/2, dfn, dfd), f.ppf(1-alpha/2, dfn, dfd)\n",
    "\n",
    "critical_f(0.05,30,30)"
   ]
  },
  {
   "cell_type": "code",
   "execution_count": 3,
   "id": "d5b10e2c-61d7-4b97-a812-7cd7ff7e5437",
   "metadata": {},
   "outputs": [
    {
     "name": "stdout",
     "output_type": "stream",
     "text": [
      "Sample 1 variance: 1.2858\n",
      "Sample 2 variance: 2.1386\n",
      "F-value: 1.6633\n",
      "Degrees of freedom: 99 and 99\n",
      "p-value: 0.0120\n"
     ]
    }
   ],
   "source": [
    "# Q3. Write a Python program that generates random samples from two normal distributions with known\n",
    "# variances and uses an F-test to determine if the variances are equal. The program should output the F-\n",
    "# value, degrees of freedom, and p-value for the test.\n",
    "\n",
    "import numpy as np\n",
    "from scipy.stats import f\n",
    "\n",
    "# Set random seed for reproducibility\n",
    "np.random.seed(123)\n",
    "\n",
    "# Generate random samples from two normal distributions with known variances\n",
    "sample1 = np.random.normal(loc=0, scale=1, size=100)\n",
    "sample2 = np.random.normal(loc=0, scale=1.5, size=100)\n",
    "\n",
    "# Calculate the variances of the two samples\n",
    "var1 = np.var(sample1, ddof=1)\n",
    "var2 = np.var(sample2, ddof=1)\n",
    "\n",
    "# Calculate the F-value and p-value for the F-test\n",
    "f_value = var1 / var2 if var1 > var2 else var2 / var1\n",
    "df1 = len(sample1) - 1\n",
    "df2 = len(sample2) - 1\n",
    "p_value = f.sf(f_value, df1, df2) * 2\n",
    "\n",
    "# Print the results\n",
    "print(\"Sample 1 variance: {:.4f}\".format(var1))\n",
    "print(\"Sample 2 variance: {:.4f}\".format(var2))\n",
    "print(\"F-value: {:.4f}\".format(f_value))\n",
    "print(\"Degrees of freedom: {} and {}\".format(df1, df2))\n",
    "print(\"p-value: {:.4f}\".format(p_value))"
   ]
  },
  {
   "cell_type": "code",
   "execution_count": 4,
   "id": "2b6eb113-9e2c-4789-b2f1-55cf8721dd5a",
   "metadata": {},
   "outputs": [
    {
     "name": "stdout",
     "output_type": "stream",
     "text": [
      "Fail to reject the null hypothesis that the variances are equal.\n",
      "F-value: 0.6666666666666666\n",
      "Degrees of freedom: 11 11\n",
      "p-value: 0.5123897987357996\n"
     ]
    }
   ],
   "source": [
    "# Q4.The variances of two populations are known to be 10 and 15. A sample of 12 observations is taken from\n",
    "# each population. Conduct an F-test at the 5% significance level to determine if the variances are\n",
    "# significantly different.\n",
    "\n",
    "import numpy as np\n",
    "from scipy.stats import f\n",
    "\n",
    "# set the significance level\n",
    "alpha = 0.05\n",
    "\n",
    "# set the sample variances\n",
    "s1_sq = 10\n",
    "s2_sq = 15\n",
    "\n",
    "# set the sample sizes\n",
    "n1 = 12\n",
    "n2 = 12\n",
    "\n",
    "# calculate the F-statistic\n",
    "F = s1_sq / s2_sq\n",
    "\n",
    "# calculate the p-value\n",
    "p_value = 2 * min(f.cdf(F, n1-1, n2-1), f.sf(F, n1-1, n2-1))\n",
    "\n",
    "# calculate the critical F-value\n",
    "F_crit = f.ppf(alpha/2, n1-1, n2-1)\n",
    "\n",
    "# compare the F-value to the critical F-value\n",
    "if F < F_crit or F > 1/F_crit:\n",
    "    print(\"Reject the null hypothesis that the variances are equal.\")\n",
    "else:\n",
    "    print(\"Fail to reject the null hypothesis that the variances are equal.\")\n",
    "\n",
    "# print the F-value, degrees of freedom, and p-value\n",
    "print(\"F-value:\", F)\n",
    "print(\"Degrees of freedom:\", n1-1, n2-1)\n",
    "print(\"p-value:\", p_value)"
   ]
  },
  {
   "cell_type": "code",
   "execution_count": null,
   "id": "8befd4f8-dc45-4489-99d3-e1c41d20a981",
   "metadata": {},
   "outputs": [],
   "source": [
    "# Q5. A manufacturer claims that the variance of the diameter of a certain product is 0.005. A sample of 25\n",
    "# products is taken, and the sample variance is found to be 0.006. Conduct an F-test at the 1% significance\n",
    "# level to determine if the claim is justified.\n",
    "\n",
    "Let's set up the hypothesis for the F-test:\n",
    "\n",
    "Null hypothesis: The population variance is equal to 0.005.\n",
    "Alternative hypothesis: The population variance is greater than 0.005.\n",
    "The test statistic for the F-test is calculated as follows:\n",
    "\n",
    "F = s^2 / σ^2\n",
    "\n",
    "where s^2 is the sample variance and σ^2 is the population variance.\n",
    "\n",
    "The critical value of F for a one-tailed test with 24 degrees of freedom in the numerator and 0.01 level of significance is 2.99.\n",
    "\n",
    "Now, let's calculate the test statistic:\n",
    "\n",
    "F = 0.006 / 0.005 = 1.2\n",
    "\n",
    "Since the test statistic is less than the critical value, we fail to \n",
    "reject the null hypothesis. Therefore, we do not have enough evidence \n",
    "to conclude that the population variance is significantly greater than\n",
    "0.005 at the 1% level of significance."
   ]
  },
  {
   "cell_type": "code",
   "execution_count": 5,
   "id": "0f1b3e3c-ac45-4669-bca3-38865ad798eb",
   "metadata": {},
   "outputs": [
    {
     "data": {
      "text/plain": [
       "(1.0714285714285714, 0.1707221350078493)"
      ]
     },
     "execution_count": 5,
     "metadata": {},
     "output_type": "execute_result"
    }
   ],
   "source": [
    "# Q6. Write a Python function that takes in the degrees of freedom for the numerator and denominator of an\n",
    "# F-distribution and calculates the mean and variance of the distribution. The function should return the\n",
    "# mean and variance as a tuple.\n",
    "\n",
    "import math\n",
    "\n",
    "def f_distribution_mean_var(df_num, df_den):\n",
    "    mean = df_den / (df_den - 2)\n",
    "    var = (2 * df_den**2 * (df_num + df_den - 2)) / (df_num * (df_den - 2)**2 * (df_den - 4))\n",
    "    return (mean, var)\n",
    "\n",
    "f_distribution_mean_var(30,30)"
   ]
  },
  {
   "cell_type": "code",
   "execution_count": 6,
   "id": "7c1b0fa6-e305-419f-a9b1-7b50b9b73cda",
   "metadata": {},
   "outputs": [
    {
     "name": "stdout",
     "output_type": "stream",
     "text": [
      "F-statistic: 1.25\n",
      "Degrees of freedom: 9 , 14\n",
      "P-value: 0.6832194382585954\n",
      "The variances are not significantly different.\n"
     ]
    }
   ],
   "source": [
    "# Q7. A random sample of 10 measurements is taken from a normal population with unknown variance. The\n",
    "# sample variance is found to be 25. Another random sample of 15 measurements is taken from another\n",
    "# normal population with unknown variance, and the sample variance is found to be 20. Conduct an F-test\n",
    "# at the 10% significance level to determine if the variances are significantly different.\n",
    "\n",
    "\n",
    "import scipy.stats as stats\n",
    "\n",
    "# Define the sample variances\n",
    "s1_squared = 25\n",
    "s2_squared = 20\n",
    "\n",
    "# Calculate the F-statistic\n",
    "F = s1_squared / s2_squared\n",
    "\n",
    "# Calculate the degrees of freedom\n",
    "df1 = 9\n",
    "df2 = 14\n",
    "\n",
    "# Calculate the p-value\n",
    "p_value = 2 * min(stats.f.cdf(F, df1, df2), 1 - stats.f.cdf(F, df1, df2))\n",
    "\n",
    "# Print the results\n",
    "print(\"F-statistic:\", F)\n",
    "print(\"Degrees of freedom:\", df1, \",\", df2)\n",
    "print(\"P-value:\", p_value)\n",
    "\n",
    "if p_value < 0.1:\n",
    "    print(\"The variances are significantly different.\")\n",
    "else:\n",
    "    print(\"The variances are not significantly different.\")"
   ]
  },
  {
   "cell_type": "code",
   "execution_count": null,
   "id": "81c53be3-6113-4956-9bd5-e2b714d2743e",
   "metadata": {},
   "outputs": [],
   "source": [
    "# Q8. The following data represent the waiting times in minutes at two different restaurants on a Saturday\n",
    "# night: Restaurant A: 24, 25, 28, 23, 22, 20, 27; Restaurant B: 31, 33, 35, 30, 32, 36. Conduct an F-test at the 5%\n",
    "# significance level to determine if the variances are significantly different.\n",
    "\n",
    "We first calculate the sample variances for each restaurant:\n",
    "\n",
    "Sample variance for Restaurant A:\n",
    "s1^2 = [(24-24.28)^2 + (25-24.28)^2 + (28-24.28)^2 + (23-24.28)^2 + (22-24.28)^2 + (20-24.28)^2 + (27-24.28)^2] / (7-1)\n",
    "s1^2 = 9.90\n",
    "\n",
    "Sample variance for Restaurant B:\n",
    "s2^2 = [(31-32.83)^2 + (33-32.83)^2 + (35-32.83)^2 + (30-32.83)^2 + (32-32.83)^2 + (36-32.83)^2] / (6-1)\n",
    "s2^2 = 6.41\n",
    "\n",
    "Next, we calculate the F-value:\n",
    "\n",
    "F = s1^2 / s2^2\n",
    "F = 9.90 / 6.41\n",
    "F = 1.544\n",
    "\n",
    "Using a significance level of 0.05 and degrees of freedom of 6 and 5, we can look up the critical F-value from an F-distribution table or use a calculator function. The critical F-value is approximately 4.03.\n",
    "\n",
    "Since the calculated F-value (1.544) is less than the critical F-value (4.03), we fail to reject the null hypothesis that the variances are equal. Therefore, we can conclude that there is not enough evidence to suggest that the waiting times at the two restaurants have significantly different variances.\n",
    "\n"
   ]
  },
  {
   "cell_type": "code",
   "execution_count": null,
   "id": "0097e5fc-562e-41d5-8e09-f24fc6315111",
   "metadata": {},
   "outputs": [],
   "source": [
    "# Q9. The following data represent the test scores of two groups of students: Group A: 80, 85, 90, 92, 87, 83;\n",
    "# Group B: 75, 78, 82, 79, 81, 84. Conduct an F-test at the 1% significance level to determine if the variances\n",
    "# are significantly different.\n",
    "\n",
    "We need to conduct an F-test for the equality of variances:\n",
    "\n",
    "Null hypothesis: The variances of the two groups are equal.\n",
    "Alternative hypothesis: The variances of the two groups are not equal.\n",
    "\n",
    "The F-test statistic is calculated as:\n",
    "\n",
    "F = s1^2 / s2^2\n",
    "\n",
    "Where s1^2 is the sample variance of Group A and s2^2 is the sample variance of Group B.\n",
    "\n",
    "Under the null hypothesis, the F-test statistic follows an F-distribution with (n1-1) degrees of freedom in the numerator and (n2-1) degrees of freedom in the denominator, where n1 and n2 are the sample sizes of Group A and Group B, respectively.\n",
    "\n",
    "At the 1% significance level with (n1-1) = 5 and (n2-1) = 5 degrees of freedom, the critical values for the F-distribution are F_lower = 0.102 and F_upper = 9.158.\n",
    "\n",
    "First, we calculate the sample variances of the two groups:\n",
    "\n",
    "s1^2 = ((80-86)^2 + (85-86)^2 + (90-86)^2 + (92-86)^2 + (87-86)^2 + (83-86)^2) / 5 = 17.2\n",
    "\n",
    "s2^2 = ((75-80)^2 + (78-80)^2 + (82-80)^2 + (79-80)^2 + (81-80)^2 + (84-80)^2) / 5 = 7.2\n",
    "\n",
    "Then, we calculate the F-test statistic:\n",
    "\n",
    "F = s1^2 / s2^2 = 17.2 / 7.2 = 2.39\n",
    "\n",
    "Since 2.39 is not greater than the upper critical value of 9.158, we fail to reject the null hypothesis. There is not enough evidence to suggest that the variances of the two groups are significantly different at the 1% significance level."
   ]
  }
 ],
 "metadata": {
  "kernelspec": {
   "display_name": "Python 3 (ipykernel)",
   "language": "python",
   "name": "python3"
  },
  "language_info": {
   "codemirror_mode": {
    "name": "ipython",
    "version": 3
   },
   "file_extension": ".py",
   "mimetype": "text/x-python",
   "name": "python",
   "nbconvert_exporter": "python",
   "pygments_lexer": "ipython3",
   "version": "3.10.8"
  }
 },
 "nbformat": 4,
 "nbformat_minor": 5
}
