{
 "cells": [
  {
   "cell_type": "code",
   "execution_count": null,
   "id": "7964b197-f552-4b6c-aa26-267bb3fb717e",
   "metadata": {},
   "outputs": [],
   "source": [
    "1. Who developed Python Programming Language ?\n",
    "\n",
    "Guido van Rossum was the creater of Python."
   ]
  },
  {
   "cell_type": "code",
   "execution_count": null,
   "id": "e1d423ca-a9b9-43f1-a49e-d20ef04f3d78",
   "metadata": {},
   "outputs": [],
   "source": [
    "2. Which type of Programming does Python support ?\n",
    "\n",
    "Since Python is a multi-paradigm programming language,so it supports:\n",
    "    1.Object Oriented Programming\n",
    "    2.Functional Programming\n",
    "    3.Structured Programming etc.\n",
    "    "
   ]
  },
  {
   "cell_type": "code",
   "execution_count": null,
   "id": "fcfc839a-8ffd-4e3b-a42e-13c20ee120e0",
   "metadata": {},
   "outputs": [],
   "source": [
    "3. Is Python case sensitive when dealing with identifiers.?\n",
    "\n",
    "As Python is a case sensitive language ,which means it treats \n",
    "upper and lower case diffrently.This also applies for Identifires as well."
   ]
  },
  {
   "cell_type": "code",
   "execution_count": null,
   "id": "59bc9c12-d08a-4ae8-8174-db88f3cc816c",
   "metadata": {},
   "outputs": [],
   "source": [
    "4. What is the correct extension of theh Python file.?\n",
    "\n",
    "The most widely used extension for Python is .py . But,there \n",
    "are other extension as well like .pyi, .pyc, .pyd, .pyo, .pyw, and .pyz ."
   ]
  },
  {
   "cell_type": "code",
   "execution_count": null,
   "id": "2d4c8444-8ee2-4721-83f3-6f0ce2412452",
   "metadata": {},
   "outputs": [],
   "source": [
    "5. Is Python code Compiled or Interpreted ? \n",
    "\n",
    "Python is an interpreted language, which means that Python\n",
    "source code is firstly convered into bytecode and then \n",
    "executed by the Python virtual machine."
   ]
  },
  {
   "cell_type": "code",
   "execution_count": null,
   "id": "65fdd797-3e33-4898-a65d-f48bc7f969bb",
   "metadata": {},
   "outputs": [],
   "source": [
    "6.Name a few blocks of code used to define in Python language .?\n",
    "\n",
    "Blocks in Python are codes which can run collectively as unit.For,\n",
    "example module,class,function."
   ]
  },
  {
   "cell_type": "code",
   "execution_count": null,
   "id": "0d27d0f4-6879-4ca7-8e70-bbd211fd32b2",
   "metadata": {},
   "outputs": [],
   "source": [
    "7.State a character used to give single-line comments in Python ? \n",
    "\n",
    "The character '#' is used to give single-line comments in Python."
   ]
  },
  {
   "cell_type": "code",
   "execution_count": 1,
   "id": "c47e48b9-3120-4b62-9cfd-3f68175e9d9d",
   "metadata": {},
   "outputs": [
    {
     "name": "stdout",
     "output_type": "stream",
     "text": [
      "3.10.8\n"
     ]
    }
   ],
   "source": [
    "8. Mention funcions which can help us to find the version of Python hat we are currently working on .?\n",
    "The following code can be used to find out the version of Python which we are currently using.\n",
    "'''from platform import python_version\n",
    "print(python_version())'''\n",
    "\n",
    "Here, platform is the module and python_version is the function,and \n",
    "currently we are using 3.10.8 ."
   ]
  },
  {
   "cell_type": "code",
   "execution_count": null,
   "id": "aa2ee291-b008-4296-908d-486c409e9f81",
   "metadata": {},
   "outputs": [],
   "source": [
    "9. Python supports the creation of anonymous function at runtime ,using a conatruct called lambda. "
   ]
  },
  {
   "cell_type": "code",
   "execution_count": null,
   "id": "fe9bd2fe-11e2-481a-b747-03b0619efaac",
   "metadata": {},
   "outputs": [],
   "source": [
    "10. What does pip stand for in Python .?\n",
    "\n",
    "PIP is a recursive acronym for “Preferred Installer Program” \n",
    "or PIP Installs Packages. It is a command-line utility that \n",
    "installs, reinstalls, or uninstalls PyPI packages with one simple \n",
    "command: pip.\n",
    "\n",
    "For Example :\n",
    "    pip install pandas."
   ]
  },
  {
   "cell_type": "code",
   "execution_count": null,
   "id": "027ca796-67ab-4920-bbf5-c7a381e619b6",
   "metadata": {},
   "outputs": [],
   "source": [
    "11. Mention a few built-in functions in python ?\n",
    "\n",
    "1. len():    Find the length of the iterable object.\n",
    "2. sorted(): Used to sort the object.\n",
    "3. print(): Print the object which is passed as an argument.\n",
    "4. type(): Find out the type of object , if it is a string the it would return 'str' or if the object passed is an Integer then the funcution returns 'int'.\n"
   ]
  },
  {
   "cell_type": "code",
   "execution_count": null,
   "id": "6836aacc-474c-431b-8a81-4fd9037bcd5d",
   "metadata": {},
   "outputs": [],
   "source": [
    "12. What is the maximum possible length of  an idenifier in Python ?\n",
    "\n",
    "79 Characters is the maximum possible lenght. "
   ]
  },
  {
   "cell_type": "code",
   "execution_count": null,
   "id": "d4c65b33-d9dd-4801-87ae-6b73927c72ac",
   "metadata": {},
   "outputs": [],
   "source": [
    "13. What are the benefits of using Python ?\n",
    "\n",
    "Since Python is a language which is widely used ,here are some of the \n",
    "top 5 benfits of using Python.\n",
    "1.Large developer community. \n",
    "2.Extensive libraries. \n",
    "3.Write less, do more. \n",
    "4.Portability. \n",
    "5.Wide range of use cases."
   ]
  },
  {
   "cell_type": "code",
   "execution_count": null,
   "id": "830aaccd-9f22-4d11-be5b-d27a06d3b039",
   "metadata": {},
   "outputs": [],
   "source": [
    "14.How is memory managed in Python ?\n",
    "\n",
    "\n",
    "In python, there are two types of memory:\n",
    "\n",
    "Static Memory: Is used for method declaration and function call.Stak memory is used.\n",
    "Dynamic Memory: When the obejct is assigned memory when the program is running. Heap data Stuctures is used.\n",
    "\n",
    "When a variable is declared in python, mainly two processes take place:\n",
    "\n",
    "An object (or instance) of the respective class is created in the heap memory or runtime memory. It stores the data of the variable.\n",
    "A reference to this object is created in the static memory which holds the address of the instance in heap memory."
   ]
  },
  {
   "cell_type": "code",
   "execution_count": null,
   "id": "5ae3f590-7b20-4236-a6a3-b0eafc3c2a70",
   "metadata": {},
   "outputs": [],
   "source": [
    "15.How to install Python on Windows and set path variable ?\n",
    "\n",
    "Install python from this link https://www.python.org/downloads/\n",
    "After this, install it on your PC. Look for the location where PYTHON has been installed on your PC using tge following command on your\n",
    "command prompt: cmd python.\n",
    "Then go to advanced system settings and add new variable and name it as PYTHON_NAME and paste the copied path.\n",
    "Then look for the path variable, select it's value and select edit\n",
    "Add a semicolon towards the end of the value if it's not present and then type %PYTHON_HOME%"
   ]
  },
  {
   "cell_type": "code",
   "execution_count": null,
   "id": "a7374200-effa-4e3d-ba35-e32a32155422",
   "metadata": {},
   "outputs": [],
   "source": [
    "16. Is Identation required in Python ?\n",
    "\n",
    "Yes, Indentation is required in Python as to represent a block\n",
    "of code."
   ]
  }
 ],
 "metadata": {
  "kernelspec": {
   "display_name": "Python 3 (ipykernel)",
   "language": "python",
   "name": "python3"
  },
  "language_info": {
   "codemirror_mode": {
    "name": "ipython",
    "version": 3
   },
   "file_extension": ".py",
   "mimetype": "text/x-python",
   "name": "python",
   "nbconvert_exporter": "python",
   "pygments_lexer": "ipython3",
   "version": "3.10.8"
  }
 },
 "nbformat": 4,
 "nbformat_minor": 5
}
