{
 "cells": [
  {
   "cell_type": "code",
   "execution_count": 10,
   "id": "8fd2e004-99d6-4383-bb5b-50f9dd6dca7f",
   "metadata": {},
   "outputs": [
    {
     "name": "stdout",
     "output_type": "stream",
     "text": [
      "50.32418698158004\n",
      "4.6193007730342455\n",
      "The 95.0% confidence interval is (49.40, 51.25)\n"
     ]
    }
   ],
   "source": [
    "# Q1. Calculate the 95% confidence interval for a sample of data with a mean of 50 and a standard deviation\n",
    "# of 5 using Python. Interpret the results.\n",
    "\n",
    "import scipy.stats as stats\n",
    "import numpy as np\n",
    "\n",
    "data =  np.random.normal(loc=50,scale=5,size=100) # Create a sample dataset with a mean of 50 and a standard deviation of 5\n",
    "confidence_level = 0.95\n",
    "\n",
    "n = len(data) # Sample size\n",
    "mean = sum(data) / n # Sample mean\n",
    "std_error = stats.sem(data) # Standard error\n",
    "\n",
    "print(mean)\n",
    "print(data.std())\n",
    "# Calculate the margin of error\n",
    "margin_of_error = std_error * stats.t.ppf((1 + confidence_level) / 2, n - 1)\n",
    "\n",
    "# Calculate the confidence interval\n",
    "lower_bound = mean - margin_of_error\n",
    "upper_bound = mean + margin_of_error\n",
    "\n",
    "print(f\"The {confidence_level*100}% confidence interval is ({lower_bound:.2f}, {upper_bound:.2f})\")\n",
    "\n",
    "# Interpretation: With 95% confidence, the true population mean is \n",
    "# estimated to be between 49.40 and 51.25 based on the sample data \n",
    "# with a mean of 50 and a standard deviation of 5."
   ]
  },
  {
   "cell_type": "code",
   "execution_count": 11,
   "id": "422f70e2-ec8c-4eec-a104-5be106292925",
   "metadata": {},
   "outputs": [
    {
     "name": "stdout",
     "output_type": "stream",
     "text": [
      "Chi-square statistic: 21.25\n",
      "P-value: 0.0007\n",
      "Reject the null hypothesis\n"
     ]
    }
   ],
   "source": [
    "# Q2. Conduct a chi-square goodness of fit test to determine if the distribution of colors of M&Ms in a bag\n",
    "# matches the expected distribution of 20% blue, 20% orange, 20% green, 10% yellow, 10% red, and 20%\n",
    "# brown. Use Python to perform the test with a significance level of 0.05.\n",
    "\n",
    "import numpy as np\n",
    "from scipy.stats import chisquare\n",
    "\n",
    "# Observed counts of colors in the sample bag\n",
    "observed_counts = [10, 35, 15, 10, 5, 25] # Blue, Orange, Green, Yellow, Red, Brown\n",
    "\n",
    "# Expected counts of colors based on the given distribution\n",
    "expected_counts = [0.2 * 100] * 3 + [0.1 * 100] * 2 + [0.2 * 100]\n",
    "\n",
    "# Perform the chi-square test\n",
    "chi2, p = chisquare(observed_counts, expected_counts)\n",
    "\n",
    "# Output the results\n",
    "print(f\"Chi-square statistic: {chi2:.2f}\")\n",
    "print(f\"P-value: {p:.4f}\")\n",
    "if p < 0.05:\n",
    "    print(\"Reject the null hypothesis\")\n",
    "else:\n",
    "    print(\"Fail to reject the null hypothesis\")\n",
    "    \n",
    "    \n",
    "# Interpretation: The calculated chi-square statistic is 21.25 and \n",
    "# the corresponding p-value is 0.0007. Since the p-value is less than \n",
    "# the significance level of 0.05, we reject the null hypothesis that\n",
    "# the observed distribution of colors matches the expected distribution.\n",
    "# Therefore, there is evidence to suggest that the distribution of \n",
    "# colors of M&Ms in the bag does not match the expected distribution."
   ]
  },
  {
   "cell_type": "code",
   "execution_count": 12,
   "id": "538e4307-c94c-4b01-8f2c-1214b4318708",
   "metadata": {},
   "outputs": [
    {
     "name": "stdout",
     "output_type": "stream",
     "text": [
      "Chi-square statistic: 5.833333333333334\n",
      "p-value: 0.05411376622282158\n"
     ]
    }
   ],
   "source": [
    "# Q3. Use Python to calculate the chi-square statistic and p-value for a contingency table with the following\n",
    "# data:\n",
    "\n",
    "# Interpret the results of the test.\n",
    "#                        Group A        Group B        \n",
    "\n",
    "# Outcome 1              20              15\n",
    "# Outcome 2              10              25\n",
    "# Outcome 3              15              20\n",
    "\n",
    "\n",
    "\n",
    "\n",
    "import numpy as np\n",
    "from scipy.stats import chi2_contingency\n",
    "\n",
    "# Create the contingency table as a numpy array\n",
    "cont_table = np.array([[20, 15], [10, 25], [15, 20]])\n",
    "\n",
    "# Perform the chi-square test and print the results\n",
    "stat, p, dof, expected = chi2_contingency(cont_table)\n",
    "print(\"Chi-square statistic:\", stat)\n",
    "print(\"p-value:\", p)\n",
    "\n",
    "\n",
    "\n",
    "# The chi-square statistic is 5.83 and the p-value is 0.054. \n",
    "# Since the p-value is greater than the significance level of 0.05, we\n",
    "# fail to reject the null hypothesis that the row and column variables\n",
    "# are independent. In other words, there is not enough evidence to \n",
    "# conclude that there is a significant association between the outcomes\n",
    "# and the groups."
   ]
  },
  {
   "cell_type": "code",
   "execution_count": 13,
   "id": "bd66753d-e060-4359-a87d-c1041725c786",
   "metadata": {},
   "outputs": [
    {
     "name": "stdout",
     "output_type": "stream",
     "text": [
      "(0.09151638887130706, 0.14848361112869293)\n"
     ]
    }
   ],
   "source": [
    "# Q4. A study of the prevalence of smoking in a population of 500 individuals found that 60 individuals\n",
    "# smoked. Use Python to calculate the 95% confidence interval for the true proportion of individuals in the\n",
    "# population who smoke.\n",
    "\n",
    "import statsmodels.api as sm\n",
    "\n",
    "n = 500 # sample size\n",
    "x = 60 # number of smokers\n",
    "\n",
    "prop_ci = sm.stats.proportion_confint(x, n, alpha=0.05, method='normal')\n",
    "print(prop_ci)\n",
    "\n",
    "# We can be 95% confident that the true proportion of individuals in \n",
    "# the population who smoke is between 0.091 and 0.148 (or 9.0% to 14.8%)."
   ]
  },
  {
   "cell_type": "code",
   "execution_count": 18,
   "id": "8ab196a0-da9e-494d-b88d-d9d2316d0d42",
   "metadata": {},
   "outputs": [
    {
     "name": "stdout",
     "output_type": "stream",
     "text": [
      "90% Confidence Interval: [72.56, 77.64]\n"
     ]
    }
   ],
   "source": [
    "# Q5. Calculate the 90% confidence interval for a sample of data with a mean of 75 and a standard deviation\n",
    "# of 12 using Python. Interpret the results.\n",
    "\n",
    "import numpy as np\n",
    "from scipy.stats import t\n",
    "\n",
    "# sample data\n",
    "data = [75, 82, 68, 71, 80, 79, 72, 73, 77, 74]\n",
    "\n",
    "# sample size\n",
    "n = len(data)\n",
    "\n",
    "# sample mean\n",
    "sample_mean = np.mean(data)\n",
    "\n",
    "# sample standard deviation\n",
    "sample_std = np.std(data, ddof=1)\n",
    "\n",
    "# degrees of freedom\n",
    "df = n - 1\n",
    "\n",
    "# t-value for 90% confidence level and degrees of freedom\n",
    "t_value = t.ppf(0.95, df)\n",
    "\n",
    "# margin of error\n",
    "margin_of_error = t_value * sample_std / np.sqrt(n)\n",
    "\n",
    "# confidence interval\n",
    "lower_bound = sample_mean - margin_of_error\n",
    "upper_bound = sample_mean + margin_of_error\n",
    "\n",
    "print(\"90% Confidence Interval: [{:.2f}, {:.2f}]\".format(lower_bound, upper_bound))\n",
    "\n",
    "\n",
    "# We can say with 90% confidence that the true population mean\n",
    "# lies between the lower bound of 72.56 and the upper bound of 77.64, \n",
    "# based on the sample data. This means that if we take repeated samples \n",
    "# and calculate their confidence intervals, 90% of the intervals would \n",
    "# contain the true population mean."
   ]
  },
  {
   "cell_type": "code",
   "execution_count": 19,
   "id": "94f85740-ae82-4bb6-8a3c-23ada642b5a5",
   "metadata": {},
   "outputs": [
    {
     "data": {
      "image/png": "[encoded data removed]",
      "text/plain": [
       "<Figure size 640x480 with 1 Axes>"
      ]
     },
     "metadata": {},
     "output_type": "display_data"
    }
   ],
   "source": [
    "# Q6. Use Python to plot the chi-square distribution with 10 degrees of freedom. Label the axes and shade the\n",
    "# area corresponding to a chi-square statistic of 15.\n",
    "\n",
    "import numpy as np\n",
    "import matplotlib.pyplot as plt\n",
    "from scipy.stats import chi2\n",
    "\n",
    "df = 10 # degrees of freedom\n",
    "x = np.linspace(0, 30, 500) # range of x values\n",
    "y = chi2.pdf(x, df) # probability density function\n",
    "\n",
    "fig, ax = plt.subplots()\n",
    "ax.plot(x, y)\n",
    "ax.set_xlabel('Chi-square statistic')\n",
    "ax.set_ylabel('Probability density')\n",
    "ax.fill_between(x[x>=15], y[x>=15], 0, alpha=0.5)\n",
    "ax.text(16, 0.05, 'Area = {:.2f}'.format(chi2.sf(15, df)), fontsize=12)\n",
    "plt.show()"
   ]
  },
  {
   "cell_type": "code",
   "execution_count": null,
   "id": "72015a0f-8855-47d2-b354-16c3ea8d0fc4",
   "metadata": {},
   "outputs": [],
   "source": [
    "# Q7. A random sample of 1000 people was asked if they preferred Coke or Pepsi. Of the sample, 520\n",
    "# preferred Coke. Calculate a 99% confidence interval for the true proportion of people in the population who\n",
    "# prefer Coke.\n",
    "\n",
    "To calculate the 99% confidence interval for the true proportion of people in the population who prefer Coke, we can use the following formula:\n",
    "\n",
    "CI = p ± z*(sqrt(p*(1-p)/n))\n",
    "\n",
    "where:\n",
    "p = proportion of people in the sample who prefer Coke = 520/1000 = 0.52\n",
    "n = sample size = 1000\n",
    "z = z-score corresponding to a 99% confidence level, which is 2.576\n",
    "\n",
    "Substituting the values in the formula, we get:\n",
    "\n",
    "CI = 0.52 ± 2.576*(sqrt(0.52*(1-0.52)/1000))\n",
    "\n",
    "CI = 0.52 ± 0.049\n",
    "\n",
    "CI = (0.471, 0.569)\n",
    "\n",
    "Therefore, we can say with 99% confidence that the true proportion of people in the population who prefer Coke lies between 0.471 and 0.569."
   ]
  },
  {
   "cell_type": "code",
   "execution_count": 22,
   "id": "c8a6f315-b625-44ab-8735-e500333c4871",
   "metadata": {},
   "outputs": [
    {
     "name": "stdout",
     "output_type": "stream",
     "text": [
      "0.47950012218695337\n"
     ]
    }
   ],
   "source": [
    "# Q8. A researcher hypothesizes that a coin is biased towards tails. They flip the coin 100 times and observe\n",
    "# 45 tails. Conduct a chi-square goodness of fit test to determine if the observed frequencies match the\n",
    "# expected frequencies of a fair coin. Use a significance level of 0.05.\n",
    "\n",
    "\n",
    "# For a goodness-of-fit test, we need to compare the observed \n",
    "# frequencies with the expected frequencies for each category. \n",
    "# For a fair coin, we would expect a probability of 0.5 for both \n",
    "# heads and tails.\n",
    "\n",
    "# The expected frequency for tails in 100 flips of a fair coin is \n",
    "# 0.5*100=50, and the expected frequency for heads is also 50.\n",
    "\n",
    "# We can use the chi-square goodness-of-fit test to determine if \n",
    "# the observed frequency of tails significantly differs from the \n",
    "# expected frequency of 50. Our null hypothesis is that the coin is\n",
    "# fair and unbiased towards heads or tails.\n",
    "\n",
    "# First, we need to calculate the chi-square test statistic:\n",
    "import scipy.stats as stats\n",
    "\n",
    "observed_tails = 45\n",
    "expected_tails = 50\n",
    "expected_heads = 50\n",
    "\n",
    "chi_sq_stat = ((observed_tails - expected_tails)**2 / expected_tails) + ((50 - 50)**2 / 50)\n",
    "\n",
    "# The degrees of freedom for a goodness-of-fit test with two categories is 2-1=1.\n",
    "\n",
    "# We can now calculate the p-value using the chi-square distribution with 1 degree of freedom:\n",
    "\n",
    "p_value = 1 - stats.chi2.cdf(chi_sq_stat, 1)\n",
    "print(p_value)\n",
    "# With a significance level of 0.05, we reject the null hypothesis \n",
    "# if the p-value is less than 0.05. In this case, the p-value is \n",
    "# greater than 0.05, so we fail to reject the null hypothesis. We do \n",
    "# not have sufficient evidence to conclude that the coin is biased \n",
    "# towards tails.\n",
    "\n",
    "# Therefore, we can conclude that the observed frequencies do not \n",
    "# significantly differ from the expected frequencies for a fair coin."
   ]
  },
  {
   "cell_type": "code",
   "execution_count": 23,
   "id": "a43a3835-aea1-4f33-ab9f-bb30f022227f",
   "metadata": {},
   "outputs": [
    {
     "name": "stdout",
     "output_type": "stream",
     "text": [
      "12.057347670250895 0.0005158863863703744 1 [[ 45. 155.]\n",
      " [ 45. 155.]]\n"
     ]
    }
   ],
   "source": [
    "# Q9.A study was conducted to determine if there is an association between smoking status (smoker or\n",
    "# non-smoker) and lung cancer diagnosis (yes or no). The results are shown in the contingency table below.\n",
    "# Conduct a chi-square test for independence to determine if there is a significant association between\n",
    "# smoking status and lung cancer diagnosis.\n",
    "\n",
    "# Use a significance level of 0.05.\n",
    "#         Lung Cancer: Yes  Lung Cancer: No\n",
    "\n",
    "# Smoker           60            140\n",
    "# Non-smoker       30            170\n",
    "\n",
    "import numpy as np\n",
    "from scipy.stats import chi2_contingency\n",
    "\n",
    "observed = np.array([[60, 140], [30, 170]])\n",
    "\n",
    "chi2, p, dof, expected = chi2_contingency(observed)\n",
    "print(chi2, p, dof, expected )\n",
    "\n",
    "# The p-value is less than the significance level of 0.05, \n",
    "# indicating that we have evidence to reject the null hypothesis of \n",
    "# independence. Therefore, we conclude that there is a significant \n",
    "# association between smoking status and lung cancer diagnosis in this \n",
    "# study."
   ]
  },
  {
   "cell_type": "code",
   "execution_count": 24,
   "id": "cfbc5b0a-dcba-49f5-925f-11c52de9e872",
   "metadata": {},
   "outputs": [
    {
     "name": "stdout",
     "output_type": "stream",
     "text": [
      "Chi-square test statistic: 13.393665158371041\n",
      "P-value: 0.0012348168997745918\n"
     ]
    }
   ],
   "source": [
    "# Q10. A study was conducted to determine if the proportion of people who prefer milk chocolate, dark\n",
    "# chocolate, or white chocolate is different in the U.S. versus the U.K. A random sample of 500 people from\n",
    "# the U.S. and a random sample of 500 people from the U.K. were surveyed. The results are shown in the\n",
    "# contingency table below. Conduct a chi-square test for independence to determine if there is a significant\n",
    "# association between chocolate preference and country of origin.\n",
    "\n",
    "#             Milk Chocolate Dark Chocolate White Chocolate\n",
    "\n",
    "# U.S. (n=500) 200                150              150\n",
    "# U.K. (n=500) 225                175              100\n",
    "# Use a significance level of 0.01.\n",
    "\n",
    "import numpy as np\n",
    "from scipy.stats import chi2_contingency\n",
    "\n",
    "obs = np.array([[200, 150, 150], [225, 175, 100]])\n",
    "exp = np.array([[187.5, 146.25, 166.25], [237.5, 183.75, 78.75]])\n",
    "\n",
    "chi2, p, dof, expected = chi2_contingency(obs)\n",
    "\n",
    "print(\"Chi-square test statistic:\", chi2)\n",
    "print(\"P-value:\", p)"
   ]
  },
  {
   "cell_type": "code",
   "execution_count": null,
   "id": "eeca4459-85d0-44f9-b31e-dafcb70e3ccd",
   "metadata": {},
   "outputs": [],
   "source": [
    "# Q11. A random sample of 30 people was selected from a population with an unknown mean and standard\n",
    "# deviation. The sample mean was found to be 72 and the sample standard deviation was found to be 10.\n",
    "# Conduct a hypothesis test to determine if the population mean is significantly different from 70. Use a\n",
    "# significance level of 0.05.\n",
    "\n",
    "To conduct a hypothesis test to determine if the population mean is\n",
    "significantly different from 70 with a significance level of 0.05, \n",
    "we can use a one-sample t-test. The null and alternative hypotheses\n",
    "are:\n",
    "\n",
    "Null hypothesis (H0): The population mean is equal to 70.\n",
    "Alternative hypothesis (HA): The population mean is not equal to 70.\n",
    "\n",
    "We can use the t-test formula to calculate the t-value:\n",
    "\n",
    "t = (x̄ - μ) / (s / sqrt(n))\n",
    "\n",
    "Where x̄ is the sample mean, μ is the population mean\n",
    "(null hypothesis), s is the sample standard deviation, and n is \n",
    "the sample size.\n",
    "\n",
    "We can calculate the t-value using the given values:\n",
    "\n",
    "t = (72 - 70) / (10 / sqrt(30))\n",
    "t = 1.385\n",
    "\n",
    "Using a t-distribution table with 29 degrees of freedom and \n",
    "a significance level of 0.05, the critical values are -2.045 and \n",
    "2.045.\n",
    "\n",
    "Since the calculated t-value (1.385) is not greater than the\n",
    "critical value of 2.045 or less than the critical value of -2.045,\n",
    "we fail to reject the null hypothesis. Therefore, we do not have \n",
    "enough evidence to conclude that the population mean is significantly\n",
    "different from 70 at a significance level of 0.05."
   ]
  }
 ],
 "metadata": {
  "kernelspec": {
   "display_name": "Python 3 (ipykernel)",
   "language": "python",
   "name": "python3"
  },
  "language_info": {
   "codemirror_mode": {
    "name": "ipython",
    "version": 3
   },
   "file_extension": ".py",
   "mimetype": "text/x-python",
   "name": "python",
   "nbconvert_exporter": "python",
   "pygments_lexer": "ipython3",
   "version": "3.10.8"
  }
 },
 "nbformat": 4,
 "nbformat_minor": 5
}
