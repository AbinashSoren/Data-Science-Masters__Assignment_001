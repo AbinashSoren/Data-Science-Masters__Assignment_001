{
 "cells": [
  {
   "cell_type": "code",
   "execution_count": null,
   "id": "207fbc01-ba8a-46c0-b3d6-91ac062fe7fe",
   "metadata": {},
   "outputs": [],
   "source": [
    "Q1, Create a vehicle class with an init method having instance variables as name_of_vehicle, max_speed\n",
    "and average_of_vehicle.\n",
    "\n",
    "class Vehicle:\n",
    "    def __init__(self,veh_name,max_speed,avg_veh):\n",
    "        self.vehicle_name=veh_name\n",
    "        self.max_speed=max_speed\n",
    "        self.avg_veh=avg_veh\n",
    "        \n",
    "        "
   ]
  },
  {
   "cell_type": "code",
   "execution_count": 7,
   "id": "a2a47e99-f433-4036-b7c1-e835087901f8",
   "metadata": {},
   "outputs": [
    {
     "name": "stdout",
     "output_type": "stream",
     "text": [
      "G-Wagon\n",
      "255\n",
      "25\n",
      "4\n"
     ]
    }
   ],
   "source": [
    "# Q2. Create a child class car from the vehicle class created in Que 1, which will inherit the vehicle class.\n",
    "# Create a method named seating_capacity which takes capacity as an argument and returns the name of\n",
    "# the vehicle and its seating capacity.\n",
    "\n",
    "class Vehicle:\n",
    "    def __init__(self,veh_name,max_speed,avg_veh):\n",
    "        self.vehicle_name=veh_name\n",
    "        self.max_speed=max_speed\n",
    "        self.avg_veh=avg_veh\n",
    "        \n",
    "class Car(Vehicle):\n",
    "    def __init__(self,veh_name,max_speed,avg_veh,seating_cap):\n",
    "        super().__init__(veh_name,max_speed,avg_veh)\n",
    "        self.seating_cap=seating_cap\n",
    "\n",
    "c=Car('G-Wagon',255,25,4)\n",
    "print(c.vehicle_name)\n",
    "print(c.max_speed)\n",
    "print(c.avg_veh)\n",
    "print(c.seating_cap)\n",
    "\n"
   ]
  },
  {
   "cell_type": "code",
   "execution_count": null,
   "id": "ec511f5a-d488-42be-bcef-da2bb5e76181",
   "metadata": {},
   "outputs": [],
   "source": [
    "# Q3. What is multiple inheritance? Write a python code to demonstrate multiple inheritance.\n",
    "\n",
    "Multiple Inheritance:When the class can be derieved from more\n",
    "than one base class.\n",
    "\n",
    "class A:#(Parent class)\n",
    "    var_1=10\n",
    "    var_2=20\n",
    "    def display_1(self):\n",
    "        print('Hello from class A')\n",
    "class B():  \n",
    "    var_3=30\n",
    "    var_4=40\n",
    "    def display_2(self):\n",
    "        print('Hi This is class B')\n",
    "class C(A,B):#class C inheriting the class A and class B ,so class C is child class\n",
    "    pass\n",
    "        \n",
    "obj=C()    \n",
    "#accessing data and method from class A\n",
    "print(obj.var_1)  \n",
    "print(obj.var_2)\n",
    "obj.display_1()\n",
    "print('*---'*10)\n",
    "#accessing data and method from class B\n",
    "print(obj.var_3)  \n",
    "print(obj.var_4)\n",
    "obj.display_2()"
   ]
  },
  {
   "cell_type": "code",
   "execution_count": null,
   "id": "d132100f-4547-4509-8d99-a7d6d3efd570",
   "metadata": {},
   "outputs": [],
   "source": [
    "# Q4. What are getter and setter in python? Create a class and create a getter and a setter method in this\n",
    "# class.\n",
    "\n",
    "Getter: A method that allows you to access an attribute in a\n",
    "given class\n",
    "Setter: A method that allows you to set or mutate the value of \n",
    "an attribute in a class\n",
    "\n",
    "The Main purpose of using getters and setters in object-oriented programs\n",
    "is to ensure data encapsulation.\n",
    "class Circle():\n",
    "    def __init__(self):\n",
    "        self.__rad=0\n",
    "    \n",
    "    def get_rad(self):\n",
    "        return self.__rad\n",
    "    \n",
    "    def set_rad(self,rad):\n",
    "        if type(rad)==int:\n",
    "            self.__rad=rad\n",
    "    def area(self):\n",
    "        print('Area of Circle  with radius {} is {}'.format(self.get_rad(),3.14*self.get_rad()**2))\n",
    "\n",
    "c=Circle()\n",
    "print(c.get_rad())\n",
    "c.area()\n",
    "print('*---'*25)\n",
    "c.set_rad(5)\n",
    "print(c.get_rad())\n",
    "c.area()"
   ]
  },
  {
   "cell_type": "code",
   "execution_count": null,
   "id": "ab68cc01-f05c-4c50-8614-1d3906a1a71f",
   "metadata": {},
   "outputs": [
    {
     "name": "stdout",
     "output_type": "stream",
     "text": [
      "Hi..I am a Human Being and also a Mammal\n"
     ]
    }
   ],
   "source": [
    "# Q5.What is method overriding in python? Write a python code to demonstrate method overriding.\n",
    "\n",
    "Method overriding is an ability of any object-oriented programming \n",
    "language that allows a subclass or child class to provide a specific \n",
    "implementation of a method that is already provided by one of its \n",
    "super-classes or parent classes.\n",
    "\n",
    "class Mammals():\n",
    "    def details(self):\n",
    "        print('Hello There ..I am a Mammal')\n",
    "\n",
    "class HumanBeing(Mammals):\n",
    "    def details(self):\n",
    "        print('Hi..I am a Human Being and also a Mammal')\n",
    "\n",
    "\n",
    "human_being_1=HumanBeing()\n",
    "human_being_1.details()\n"
   ]
  }
 ],
 "metadata": {
  "kernelspec": {
   "display_name": "Python 3 (ipykernel)",
   "language": "python",
   "name": "python3"
  },
  "language_info": {
   "codemirror_mode": {
    "name": "ipython",
    "version": 3
   },
   "file_extension": ".py",
   "mimetype": "text/x-python",
   "name": "python",
   "nbconvert_exporter": "python",
   "pygments_lexer": "ipython3",
   "version": "3.10.8"
  }
 },
 "nbformat": 4,
 "nbformat_minor": 5
}
