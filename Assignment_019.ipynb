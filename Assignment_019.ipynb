{
 "cells": [
  {
   "cell_type": "code",
   "execution_count": 23,
   "id": "a1ab2c85-5343-493c-8038-76521117bcca",
   "metadata": {},
   "outputs": [
    {
     "name": "stdout",
     "output_type": "stream",
     "text": [
      "['1' '2' '3' '4' '5']\n"
     ]
    }
   ],
   "source": [
    "# Consider the below code to answer further questions:\n",
    "import numpy as np\n",
    "list_ = [ '1' , '2' , '3' , '4' , '5' ]\n",
    "array_list = np.array(object = list_)\n",
    "print(array_list)"
   ]
  },
  {
   "cell_type": "code",
   "execution_count": 9,
   "id": "a2d46435-4723-4a38-906c-c0a672e218e3",
   "metadata": {},
   "outputs": [
    {
     "name": "stdout",
     "output_type": "stream",
     "text": [
      "['1' '2' '3' '4' '5']\n",
      "The Type of variable array_list is  <class 'numpy.ndarray'>\n",
      "The Type of a particular variable array_list is  <class 'numpy.str_'>\n",
      "\n",
      "['1', '2', '3', '4', '5']\n",
      "The Type of variable list_ is  <class 'list'>\n",
      "The Type of a particuular variable list_ is  <class 'str'>\n"
     ]
    }
   ],
   "source": [
    "# Q1. Is there any difference in the data type of variables list_ and array_list? If there is then write a code\n",
    "# to print the data types of both the variables.\n",
    "\n",
    "# Yes ,there is a diffrence between a list and numpy.array.\n",
    "\n",
    "\n",
    "# Advantages of using numpy array over Lists are:\n",
    "#     1.numpy array consumes less memory compared to lists.\n",
    "#     2.Faster compared to lists.\n",
    "#     3.More Convenient to use.\n",
    "print(array_list)\n",
    "print('The Type of variable array_list is ',type(array_list))\n",
    "print('The Type of a particular variable array_list is ',type(array_list[0]))\n",
    "\n",
    "print()\n",
    "\n",
    "print(list_)\n",
    "print('The Type of variable list_ is ',type(list_))\n",
    "print('The Type of a particuular variable list_ is ',type(list_[0]))"
   ]
  },
  {
   "cell_type": "code",
   "execution_count": 13,
   "id": "5ca97f40-ebfe-4280-9491-5b13d5bfb174",
   "metadata": {},
   "outputs": [
    {
     "name": "stdout",
     "output_type": "stream",
     "text": [
      "The Type of variable list_ for  element 1 is <class 'str'> \n",
      "The Type of variable list_ for  element 2 is <class 'str'> \n",
      "The Type of variable list_ for  element 3 is <class 'str'> \n",
      "The Type of variable list_ for  element 4 is <class 'str'> \n",
      "The Type of variable list_ for  element 5 is <class 'str'> \n",
      "The Type of variable array_list for  element 1 is <class 'numpy.str_'> \n",
      "The Type of variable array_list for  element 2 is <class 'numpy.str_'> \n",
      "The Type of variable array_list for  element 3 is <class 'numpy.str_'> \n",
      "The Type of variable array_list for  element 4 is <class 'numpy.str_'> \n",
      "The Type of variable array_list for  element 5 is <class 'numpy.str_'> \n"
     ]
    }
   ],
   "source": [
    "# Q2. Write a code to print the data type of each and every element of both the variables list_ and\n",
    "# arra_list.\n",
    "\n",
    "for x in list_:\n",
    "    print('The Type of variable list_ for  element {} is {} '.format(x,type(x)))\n",
    "    \n",
    "for x in array_list:\n",
    "    print('The Type of variable array_list for  element {} is {} '.format(x,type(x)))    "
   ]
  },
  {
   "cell_type": "code",
   "execution_count": 15,
   "id": "4178254f-8a3a-4749-af7d-9764ef660fb3",
   "metadata": {},
   "outputs": [
    {
     "name": "stdout",
     "output_type": "stream",
     "text": [
      "The Type of variable list_ for  element 1 is <class 'str'> \n",
      "The Type of variable list_ for  element 2 is <class 'str'> \n",
      "The Type of variable list_ for  element 3 is <class 'str'> \n",
      "The Type of variable list_ for  element 4 is <class 'str'> \n",
      "The Type of variable list_ for  element 5 is <class 'str'> \n",
      "The Type of variable array_list for  element 1 is <class 'numpy.int64'> \n",
      "The Type of variable array_list for  element 2 is <class 'numpy.int64'> \n",
      "The Type of variable array_list for  element 3 is <class 'numpy.int64'> \n",
      "The Type of variable array_list for  element 4 is <class 'numpy.int64'> \n",
      "The Type of variable array_list for  element 5 is <class 'numpy.int64'> \n"
     ]
    }
   ],
   "source": [
    "# Q3. Considering the following changes in the variable, array_list:\n",
    "# array_list = np.array(object = list_, dtype = int)\n",
    "# Will there be any difference in the data type of the elements present in both the variables, list_ and\n",
    "# arra_list? If so then print the data types of each and every element present in both the variables, list_\n",
    "# and arra_list.\n",
    "\n",
    "array_list = np.array(object = list_, dtype = int)\n",
    "\n",
    "\n",
    "for x in list_:\n",
    "    print('The Type of variable list_ for  element {} is {} '.format(x,type(x)))\n",
    "    \n",
    "for x in array_list:\n",
    "    print('The Type of variable array_list for  element {} is {} '.format(x,type(x)))  \n",
    "    \n",
    "    \n",
    "Yes ,the data type for variable array_list has changed to int.In short, all the elements are type casted to int."
   ]
  },
  {
   "cell_type": "code",
   "execution_count": 16,
   "id": "2ccdcdab-1058-4b5d-9214-ec6c50eafb15",
   "metadata": {},
   "outputs": [],
   "source": [
    "# Consider the below code to answer further questions:\n",
    "import numpy as np\n",
    "num_list = [ [ 1 , 2 , 3 ] , [ 4 , 5 , 6 ] ]\n",
    "num_array = np.array(object = num_list)"
   ]
  },
  {
   "cell_type": "code",
   "execution_count": 17,
   "id": "aec7174b-159c-4997-85a0-322c7c9831ab",
   "metadata": {},
   "outputs": [
    {
     "name": "stdout",
     "output_type": "stream",
     "text": [
      "The Shape of the variable num_array is (2, 3)\n",
      "\n",
      "The Size of the variable num_array is 6\n"
     ]
    }
   ],
   "source": [
    "# Q4. Write a code to find the following characteristics of variable, num_array:\n",
    "# (i) shape\n",
    "# (ii) size\n",
    "\n",
    "print('The Shape of the variable num_array is {}'.format(num_array.shape))\n",
    "print()\n",
    "print('The Size of the variable num_array is {}'.format(num_array.size))"
   ]
  },
  {
   "cell_type": "code",
   "execution_count": 18,
   "id": "44c3950a-eca7-4480-bea1-2337531c040f",
   "metadata": {},
   "outputs": [
    {
     "name": "stdout",
     "output_type": "stream",
     "text": [
      "[[0. 0. 0.]\n",
      " [0. 0. 0.]\n",
      " [0. 0. 0.]]\n"
     ]
    }
   ],
   "source": [
    "# Q5. Write a code to create numpy array of 3*3 matrix containing zeros only, using a numpy array\n",
    "# creation function.\n",
    "# [Hint: The size of the array will be 9 and the shape will be (3,3).]\n",
    "\n",
    "arr=np.zeros((3,3))\n",
    "print(arr)"
   ]
  },
  {
   "cell_type": "code",
   "execution_count": 22,
   "id": "3564a5b0-5b56-4ded-a54e-daa185067f10",
   "metadata": {},
   "outputs": [
    {
     "name": "stdout",
     "output_type": "stream",
     "text": [
      "[[1. 0. 0. 0. 0.]\n",
      " [0. 1. 0. 0. 0.]\n",
      " [0. 0. 1. 0. 0.]\n",
      " [0. 0. 0. 1. 0.]\n",
      " [0. 0. 0. 0. 1.]]\n"
     ]
    }
   ],
   "source": [
    "# Q6. Create an identity matrix of shape (5,5) using numpy functions?\n",
    "# [Hint: An identity matrix is a matrix containing 1 diagonally and other elements will be 0.]\n",
    "\n",
    "new_arr=np.eye(5,5)\n",
    "print(new_arr)"
   ]
  },
  {
   "cell_type": "code",
   "execution_count": null,
   "id": "bb115775-d6a4-4008-ac98-275a7bdf4980",
   "metadata": {},
   "outputs": [],
   "source": []
  }
 ],
 "metadata": {
  "kernelspec": {
   "display_name": "Python 3 (ipykernel)",
   "language": "python",
   "name": "python3"
  },
  "language_info": {
   "codemirror_mode": {
    "name": "ipython",
    "version": 3
   },
   "file_extension": ".py",
   "mimetype": "text/x-python",
   "name": "python",
   "nbconvert_exporter": "python",
   "pygments_lexer": "ipython3",
   "version": "3.10.8"
  }
 },
 "nbformat": 4,
 "nbformat_minor": 5
}
