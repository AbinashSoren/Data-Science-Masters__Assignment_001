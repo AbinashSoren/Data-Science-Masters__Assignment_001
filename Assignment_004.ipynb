{
 "cells": [
  {
   "cell_type": "code",
   "execution_count": 2,
   "id": "8d46955c-8389-4618-8510-86b03e2667a0",
   "metadata": {},
   "outputs": [
    {
     "data": {
      "text/plain": [
       "[1, 3, 5, 7, 9, 11, 13, 15, 17, 19, 21, 23, 25]"
      ]
     },
     "execution_count": 2,
     "metadata": {},
     "output_type": "execute_result"
    }
   ],
   "source": [
    "# Q1. Which keyword is used to create a function? Create a function to return a list of odd numbers in the\n",
    "# range of 1 to 25.\n",
    "\n",
    "# def keyword is used to create a funcion.\n",
    "\n",
    "def odd_num(li):\n",
    "    return list(filter(lambda x:x%2==1,li))\n",
    "\n",
    "li=list(range(1,26))\n",
    "odd_num(li)"
   ]
  },
  {
   "cell_type": "code",
   "execution_count": null,
   "id": "c2cff034-ced7-40d6-9d45-6802d2afd2d2",
   "metadata": {},
   "outputs": [],
   "source": [
    "# Q2. Why *args and **kwargs is used in some functions? Create a function each for *args and **kwargs\n",
    "# to demonstrate their use.\n",
    "\n",
    "*args: It is used to pass variable number of arguments to a function.\n",
    "\n",
    "Example:\n",
    "    def func_1(*vars):\n",
    "        for x in vars:\n",
    "            print(x,end=' ')\n",
    "    func_1(1,2,3,4,5,'qwerty',[11,22,33,44,55])\n",
    "\n",
    "**kwargs:It is used to pass variable number of keyword arguments to a function.\n",
    "\n",
    "Example:\n",
    "    def func_1(**vars):\n",
    "        for x,y in vars.items():\n",
    "            print(x,y,end='\\n')\n",
    "    func_1(q=[1,2,3,4,5],dc=[12,23,34,45])    "
   ]
  },
  {
   "cell_type": "code",
   "execution_count": 4,
   "id": "b7363676-4358-4d14-9259-5900ccd95ade",
   "metadata": {},
   "outputs": [
    {
     "name": "stdout",
     "output_type": "stream",
     "text": [
      "2\n",
      "4\n",
      "6\n",
      "8\n",
      "10\n"
     ]
    }
   ],
   "source": [
    "# Q3. What is an iterator in python? Name the method used to initialise the iterator object and the method\n",
    "# used for iteration. Use these methods to print the first five elements of the given list [2, 4, 6, 8, 10, 12, 14,\n",
    "# 16, 18, 20].\n",
    "\n",
    "# An iterator is an object that can be iterated upon.\n",
    "# iter() method is used to initialize a iterator.\n",
    "# next() mehod is used to for iteration.\n",
    "\n",
    "li=[2,4,6,8,10,12,14,16,18,20]\n",
    "li_iter=iter(li)\n",
    "\n",
    "print(next(li_iter))\n",
    "print(next(li_iter))\n",
    "print(next(li_iter))\n",
    "print(next(li_iter))\n",
    "print(next(li_iter))"
   ]
  },
  {
   "cell_type": "code",
   "execution_count": 17,
   "id": "fdc00a5a-ec39-4713-9c23-088a99db49af",
   "metadata": {},
   "outputs": [
    {
     "name": "stdout",
     "output_type": "stream",
     "text": [
      "0\n",
      "1\n",
      "2\n",
      "3\n",
      "4\n"
     ]
    }
   ],
   "source": [
    "# Q4. What is a generator function in python? Why yield keyword is used? Give an example of a generator\n",
    "# function.\n",
    "\n",
    "# A generator function is defined like a normal function,but\n",
    "# whenever it needs to generate a value,it does so with the\n",
    "# yield keyword,rather than return.\n",
    "\n",
    "\n",
    "def fun_gen(limit):\n",
    "    num=0\n",
    "    while num<limit:\n",
    "        yield num\n",
    "        num+=1\n",
    "x=fun_gen(5)\n",
    "print(next(x))\n",
    "print(next(x))\n",
    "print(next(x))\n",
    "print(next(x))\n",
    "print(next(x))"
   ]
  },
  {
   "cell_type": "code",
   "execution_count": 21,
   "id": "f4ecbf6a-3a6d-4334-9433-4510f87d8a09",
   "metadata": {},
   "outputs": [
    {
     "name": "stdout",
     "output_type": "stream",
     "text": [
      "2 3 5 7 11 13 17 19 23 29 31 37 41 43 47 53 59 61 67 71 "
     ]
    }
   ],
   "source": [
    "# Q5 Create a generator function for prime numbers less than 1000. Use the next() method to print the\n",
    "# first 20 prime numbers.\n",
    "\n",
    "def isPrime(n):\n",
    "    if n<=1:\n",
    "        return False\n",
    "    for i in range(2,n):\n",
    "        if n%i==0:\n",
    "            return False\n",
    "    return True\n",
    "\n",
    "def printPrime(count,limit):\n",
    "    c=0\n",
    "    i=2\n",
    "    while c<=count and i<limit:\n",
    "        if isPrime(i):\n",
    "            yield i\n",
    "        i+=1\n",
    "x=printPrime(20,1000)\n",
    "for i in range(1,21):\n",
    "    print(next(x),end=' ')"
   ]
  },
  {
   "cell_type": "code",
   "execution_count": 23,
   "id": "9ff68b94-76b5-42f4-bf64-c7e8c5ee5636",
   "metadata": {},
   "outputs": [
    {
     "name": "stdout",
     "output_type": "stream",
     "text": [
      "0 1 1 2 3 5 8 13 21 34 "
     ]
    }
   ],
   "source": [
    "# Q6. Write a python program to print the first 10 Fibonacci numbers using a while loop.\n",
    "\n",
    "a=0\n",
    "b=1\n",
    "count=1\n",
    "while count<=10:\n",
    "    print(a,end=' ')\n",
    "    a,b=b,a+b\n",
    "    count+=1"
   ]
  },
  {
   "cell_type": "code",
   "execution_count": 24,
   "id": "4b5f28c0-751e-4db2-a32d-91643b118916",
   "metadata": {},
   "outputs": [
    {
     "name": "stdout",
     "output_type": "stream",
     "text": [
      "['p', 'w', 's', 'k', 'i', 'l', 'l', 's']\n"
     ]
    }
   ],
   "source": [
    "# Q7. Write a List Comprehension to iterate through the given string: ‘pwskills’.\n",
    "# Expected output: ['p', 'w', 's', 'k', 'i', 'l', 'l', 's']\n",
    "str_1='pwskills'\n",
    "print([c for c in str_1])"
   ]
  },
  {
   "cell_type": "code",
   "execution_count": 27,
   "id": "355aaa3e-4aae-410b-83e1-55f8b5692cee",
   "metadata": {},
   "outputs": [
    {
     "name": "stdin",
     "output_type": "stream",
     "text": [
      "Enter the number to check if number is Palindrome:  131\n"
     ]
    },
    {
     "name": "stdout",
     "output_type": "stream",
     "text": [
      "Palindrome\n"
     ]
    }
   ],
   "source": [
    "# Q8. Write a python program to check whether a given number is Palindrome or not using a while loop.\n",
    "n=input('Enter the number to check if number is Palindrome: ')\n",
    "if n==n[::-1]:\n",
    "    print('Palindrome')\n",
    "else:\n",
    "    print('Not Palindrome')\n",
    "    "
   ]
  },
  {
   "cell_type": "code",
   "execution_count": 29,
   "id": "eab342de-c1ed-4f3e-9905-4368fb55d12b",
   "metadata": {},
   "outputs": [
    {
     "name": "stdout",
     "output_type": "stream",
     "text": [
      "[1, 3, 5, 7, 9, 11, 13, 15, 17, 19, 21, 23, 25, 27, 29, 31, 33, 35, 37, 39, 41, 43, 45, 47, 49, 51, 53, 55, 57, 59, 61, 63, 65, 67, 69, 71, 73, 75, 77, 79, 81, 83, 85, 87, 89, 91, 93, 95, 97, 99]\n"
     ]
    }
   ],
   "source": [
    "# Q9. Write a code to print odd numbers from 1 to 100 using list comprehension.\n",
    "l=[x for x in range(1,101)]\n",
    "odd_l=[x for x in l  if x%2==1]\n",
    "print(odd_l)"
   ]
  }
 ],
 "metadata": {
  "kernelspec": {
   "display_name": "Python 3 (ipykernel)",
   "language": "python",
   "name": "python3"
  },
  "language_info": {
   "codemirror_mode": {
    "name": "ipython",
    "version": 3
   },
   "file_extension": ".py",
   "mimetype": "text/x-python",
   "name": "python",
   "nbconvert_exporter": "python",
   "pygments_lexer": "ipython3",
   "version": "3.10.8"
  }
 },
 "nbformat": 4,
 "nbformat_minor": 5
}
