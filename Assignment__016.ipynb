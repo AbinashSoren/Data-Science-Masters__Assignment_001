{
 "cells": [
  {
   "cell_type": "code",
   "execution_count": null,
   "id": "506e029d-97c6-4c09-a47c-a5162c115408",
   "metadata": {},
   "outputs": [],
   "source": [
    "# Q1. Create a Pandas Series that contains the following data: 4, 8, 15, 16, 23, and 42. Then, print the series.\n",
    "\n",
    "import pandas as pd\n",
    "import numpy as np\n",
    "\n",
    "df=pd.Series([4,8,15,16,23,42])\n",
    "# print(type(df))\n",
    "print(df)"
   ]
  },
  {
   "cell_type": "code",
   "execution_count": null,
   "id": "8c332b0b-e4d4-403f-aae9-f6100d0ea702",
   "metadata": {},
   "outputs": [],
   "source": [
    "# Q2. Create a variable of list type containing 10 elements in it, and apply pandas.Series function on the\n",
    "# variable print it.\n",
    "\n",
    "fruits=['apples','oranges','bananas','mangoes','grapes','strawberry','guava','lichi','watermelon','grapes']\n",
    "df=pd.Series(fruits)\n",
    "print(df)"
   ]
  },
  {
   "cell_type": "code",
   "execution_count": null,
   "id": "9999a082-32ae-4467-a321-085e8803685b",
   "metadata": {},
   "outputs": [],
   "source": [
    "# Q3. Create a Pandas DataFrame that contains the following data:\n",
    "\n",
    "name=['Alice','Bob','Claire']\n",
    "age=[25,30,27]\n",
    "gender=['Female','Male','Female']\n",
    "\n",
    "values={\n",
    "'Name':name,\n",
    "'Age':age,\n",
    "'Gender':gender    \n",
    "}\n",
    "\n",
    "df=pd.DataFrame(values)\n",
    "print(type(df))\n",
    "print(df)"
   ]
  },
  {
   "cell_type": "code",
   "execution_count": null,
   "id": "0bc3bcd5-ec00-46d5-9e93-e0681543fdf3",
   "metadata": {},
   "outputs": [],
   "source": [
    "# Q4. What is ‘DataFrame’ in pandas and how is it different from pandas.series? Explain with an example.\n",
    "\n",
    "Pandas is a data manipulation module. DataFrame let you store tabular data in Python.\n",
    "The DataFrame lets you easily store and manipulate tabular data like rows and columns.\n",
    "\n",
    "These are some of the major diffrences between Pandas Series and Pandas DataFrame.\n",
    "\n",
    "Pandas Series\t                          |   Pandas DataFrame\n",
    "---------------------------------------------------------------------------------\n",
    "1. One-dimensional           \t          |   1. Two-dimensional\n",
    "2.Homogenous – Series elements must be    |   2. Heterogenous – DataFrame elements can have different data types. \n",
    "of the same data type.                    | \n",
    "\n",
    "\n",
    "Example for Series:\n",
    "-------------------  \n",
    "\n",
    "fruits=['apples','oranges','bananas','mangoes','grapes','strawberry','guava','lichi','watermelon','grapes']\n",
    "df=pd.Series(fruits)\n",
    "print(df)\n",
    "\n",
    "\n",
    "Example for DataFrame:\n",
    "----------------------\n",
    "import random\n",
    "fruits=['apples','oranges','bananas','mangoes','grapes','strawberry','guava','lichi','watermelon','grapes']\n",
    "quantity=[random.randint(1,30) for x in range(10)]\n",
    "df=pd.DataFrame({'Fruits':fruits,'#items':quantity})\n",
    "print(df)"
   ]
  },
  {
   "cell_type": "code",
   "execution_count": null,
   "id": "0fabad5c-e1ef-44f7-ab32-d5ddc7d77e3a",
   "metadata": {},
   "outputs": [],
   "source": [
    "import random\n",
    "fruits=['apples','oranges','bananas','mangoes','grapes','strawberry','guava','lichi','watermelon','grapes']\n",
    "quantity=[random.randint(1,30) for x in range(10)]\n",
    "df=pd.DataFrame({'Fruits':fruits,'#items':quantity})\n",
    "print(df)"
   ]
  },
  {
   "cell_type": "code",
   "execution_count": null,
   "id": "86851639-f3b4-40c1-abd7-46baed2b2299",
   "metadata": {},
   "outputs": [],
   "source": [
    "# Q5. What are some common functions you can use to manipulate data in a Pandas DataFrame? Can\n",
    "# you give an example of when you might use one of these functions?\n",
    "\n",
    "import pandas as pd\n",
    "\n",
    "df=pd.DataFrame({\n",
    "'col_1':[11,12,13,14,15],\n",
    "'col_2':['a','b','c','d','e'],\n",
    "'col_3':[1,np.nan,1,np.nan,1]    \n",
    "})\n",
    "\n",
    "print(df)\n",
    "\n",
    "1.transform: Modifies the values of DataFrame according to \n",
    "the given function.\n",
    "\n",
    "df_1=df.copy()\n",
    "df_1=df_1.transform(lambda x:x*3)\n",
    "print(df_1)\n",
    "\n",
    "2.fillna:Helps us filling NULL values with mean,mode or values of \n",
    "our choice.\n",
    "\n",
    "df_2=df.copy()\n",
    "print(df_2)\n",
    "df_2=df_2.fillna(df.mean())\n",
    "print(df_2)\n",
    "\n",
    "3.dropna: This method is used to remove row containing null values.\n",
    "\n",
    "df_3=df.copy()\n",
    "print(df_3)\n",
    "df_3=df_3.dropna()\n",
    "print(df_3)\n",
    "\n",
    "4.insert: used to a new row or column in the data frame.\n",
    "\n",
    "df_4=df.copy()\n",
    "print(df_4)\n",
    "df_4.insert(column='col_4',value=[1,0,0,1,1],loc=3)\n",
    "print(df_4)\n",
    "\n",
    "5.melt: The melt function is used to flips the column in a DataFrame \n",
    "to indivisual rows.\n",
    "\n",
    "df_5=df.copy()\n",
    "print(df_5)\n",
    "df_5=df_5.melt()\n",
    "print(df_5)"
   ]
  },
  {
   "cell_type": "code",
   "execution_count": null,
   "id": "23bd4e20-a44d-4a0f-9dca-5dc8aef3477b",
   "metadata": {},
   "outputs": [],
   "source": [
    "# Q6. Which of the following is mutable in nature Series, DataFrame, Panel?\n",
    "\n",
    "DataFrames are value-mutable as well as size mutable.\n",
    "Series are only value-mutable but not size mutable\n",
    "Panel are value-mutable as well as size mutable.\n"
   ]
  },
  {
   "cell_type": "code",
   "execution_count": null,
   "id": "e7293c38-f566-483c-a980-03ae18bbb5a4",
   "metadata": {},
   "outputs": [],
   "source": [
    "# Q7. Create a DataFrame using multiple Series. Explain with an example.\n",
    "\n",
    "s1 = pd.Series([11,22,33,44,55], index=[\"a\",\"b\",\"c\",\"d\",\"e\"])\n",
    "s2 = pd.Series([10,20,30,40,50], index=[\"a\",\"b\",\"c\",\"d\",\"e\"])\n",
    "pd.DataFrame([s1,s2])"
   ]
  },
  {
   "cell_type": "code",
   "execution_count": null,
   "id": "72aaae0f-84d9-411c-ada3-ab76abae42c6",
   "metadata": {},
   "outputs": [],
   "source": []
  }
 ],
 "metadata": {
  "kernelspec": {
   "display_name": "Python 3 (ipykernel)",
   "language": "python",
   "name": "python3"
  },
  "language_info": {
   "codemirror_mode": {
    "name": "ipython",
    "version": 3
   },
   "file_extension": ".py",
   "mimetype": "text/x-python",
   "name": "python",
   "nbconvert_exporter": "python",
   "pygments_lexer": "ipython3",
   "version": "3.10.8"
  }
 },
 "nbformat": 4,
 "nbformat_minor": 5
}
