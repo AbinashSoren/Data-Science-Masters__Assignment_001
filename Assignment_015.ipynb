{
 "cells": [
  {
   "cell_type": "code",
   "execution_count": 1,
   "id": "d517710b-0b9d-470b-94a8-0860b1a78e17",
   "metadata": {
    "tags": []
   },
   "outputs": [
    {
     "ename": "SyntaxError",
     "evalue": "invalid syntax (2105014274.py, line 1)",
     "output_type": "error",
     "traceback": [
      "\u001b[0;36m  Cell \u001b[0;32mIn[1], line 1\u001b[0;36m\u001b[0m\n\u001b[0;31m    Q1. What is a database? Differentiate between SQL and NoSQL databases.\u001b[0m\n\u001b[0m                  ^\u001b[0m\n\u001b[0;31mSyntaxError\u001b[0m\u001b[0;31m:\u001b[0m invalid syntax\n"
     ]
    }
   ],
   "source": [
    "Q1. What is a database? Differentiate between SQL and NoSQL databases.\n",
    "\n",
    "A database is an organized collection of data,so that it can\n",
    "be easily accessed and managed.\n",
    "\n",
    "The Main Difference:\n",
    "                    SQL\t                                                                                 NoSQL\n",
    "--------------------------------------------------------------------------------------------------------------------------------------------------------------        \n",
    "            RELATIONAL DATABASE MANAGEMENT SYSTEM (RDBMS)                      |              Non-relational or distributed database system.\n",
    "            These databases have fixed or static or predefined schema\t       |              They have dynamic schema\n",
    "            These databases are not suited for hierarchical data storage.\t   |              These databases are best suited for hierarchical data storage.\n",
    "            These databases are best suited for complex queries\t               |              These databases are not so good for complex queries\n",
    "            Vertically Scalable\t                                               |              Horizontally scalable\n",
    "            Follows ACID property\t                                           |              Follows CAP(consistency, availability, partition tolerance)\n",
    "            Examples: MySQL, PostgreSQL, Oracle, MS-SQL Server, etc\t           |              Examples: MongoDB, GraphQL, HBase, Neo4j, Cassandra, etc\n",
    "--------------------------------------------------------------------------------------------------------------------------------------------------------------\n"
   ]
  },
  {
   "cell_type": "code",
   "execution_count": null,
   "id": "e1d341f7-b1b4-4e30-936d-4173cdb3f4b4",
   "metadata": {},
   "outputs": [],
   "source": [
    "Q2. What is DDL? Explain why CREATE, DROP, ALTER, and TRUNCATE are used with an example.\n",
    "\n",
    "DDL(Data Definition Language) consists of SQL commands that can be used \n",
    "to define the database schema.\n",
    "\n",
    "It is used describe the database  schema and is used to create and modify the structure\n",
    "of database .DDL is a set of SQL commands used to create ,modify and delete datbase\n",
    "but not the data.\n",
    "\n",
    "CREATE: This cmmand is used to create the database .\n",
    "DROP:This command is used to delete the database.\n",
    "ALTER:This command is used to alter the structure of the database.\n",
    "TRUNCATE:This is used to remove all records from the a table."
   ]
  },
  {
   "cell_type": "code",
   "execution_count": null,
   "id": "9872699c-36dc-45be-889e-cd41579f7e51",
   "metadata": {},
   "outputs": [],
   "source": [
    "Q3. What is DML? Explain INSERT, UPDATE, and DELETE with an example.\n",
    "DML(Data Manipulation Language) deals with the manipulation\n",
    "of data present in the database.\n",
    "\n",
    "INSERT:Used to insert data into a table.\n",
    "UPDATE:It is used to update existing data within a table.\n",
    "DELETE:It is used to delete records from a database."
   ]
  },
  {
   "cell_type": "code",
   "execution_count": null,
   "id": "d824bfbe-dad7-4947-bef1-b495ae44774a",
   "metadata": {},
   "outputs": [],
   "source": [
    "Q4. What is DQL? Explain SELECT with an example.\n",
    "DQL(Data Query Language) are used to perform queries on the\n",
    "data.\n",
    "\n",
    "SELECT:It is used to retrive data from the database."
   ]
  },
  {
   "cell_type": "code",
   "execution_count": null,
   "id": "68e78bc9-24b2-49ef-9a5f-a370cf96015a",
   "metadata": {},
   "outputs": [],
   "source": [
    "Q5. Explain Primary Key and Foreign Key.\n",
    "\n",
    "Primary Key:A Primary key is used to ensure that data in the specific column is unique.\n",
    "A column for which the key has Primary Key  which cannot have NULL values.\n",
    "\n",
    "Foreign Key:\n",
    "A foreign key is a column or group of columns in a relational database table that provided a link between data in two tables.\n",
    "It is a column (or columns) that references a column (most often the primary key) of another table."
   ]
  },
  {
   "cell_type": "code",
   "execution_count": 6,
   "id": "1cdb6b39-5d43-4949-9e1b-44e4ad84bdfc",
   "metadata": {},
   "outputs": [
    {
     "name": "stdout",
     "output_type": "stream",
     "text": [
      "Collecting mysql.connector\n",
      "  Downloading mysql-connector-2.2.9.tar.gz (11.9 MB)\n",
      "\u001b[2K     \u001b[90m━━━━━━━━━━━━━━━━━━━━━━━━━━━━━━━━━━━━━━━━\u001b[0m \u001b[32m11.9/11.9 MB\u001b[0m \u001b[31m76.5 MB/s\u001b[0m eta \u001b[36m0:00:00\u001b[0m00:01\u001b[0m0:01\u001b[0m\n",
      "\u001b[?25h  Preparing metadata (setup.py) ... \u001b[?25ldone\n",
      "\u001b[?25hBuilding wheels for collected packages: mysql.connector\n",
      "  Building wheel for mysql.connector (setup.py) ... \u001b[?25ldone\n",
      "\u001b[?25h  Created wheel for mysql.connector: filename=mysql_connector-2.2.9-cp310-cp310-linux_x86_64.whl size=247951 sha256=deb831e4df78a1f0e0a3a08aa4aa88eada78233e6ee672c61fdef1f4153d3e7b\n",
      "  Stored in directory: /home/jovyan/.cache/pip/wheels/3e/7f/a3/928a40d1ffd01dd16057f308042377afc505d56145375adf40\n",
      "Successfully built mysql.connector\n",
      "Installing collected packages: mysql.connector\n",
      "Successfully installed mysql.connector-2.2.9\n"
     ]
    }
   ],
   "source": [
    "# Q6. Write a python code to connect MySQL to python. Explain the cursor() and execute() method.\n",
    "!pip install mysql.connector\n",
    "\n",
    "import mysql.connector \n",
    "\n",
    "my_db_object=mysql.connector.connect(\n",
    "user='localhost',\n",
    "user='user',\n",
    "password='password'    \n",
    ")\n",
    "my_db_cursor=my_db_object.cursor()\n",
    "my_db_cursor.execute('CREATE DATABASE IF NOT EXISTS mera_database')\n",
    "my_db_cursor.close()\n",
    "\n",
    "The cursor() of mysql-connector-python (and similar libraries) is used to execute statements to communicate with the MySQL database.\n",
    "The execute() method helps us to execute the query and return records according to the query."
   ]
  },
  {
   "cell_type": "code",
   "execution_count": 7,
   "id": "8faa97b6-face-404c-a03e-d75b25d7d4a1",
   "metadata": {},
   "outputs": [
    {
     "ename": "SyntaxError",
     "evalue": "invalid syntax (830830413.py, line 1)",
     "output_type": "error",
     "traceback": [
      "\u001b[0;36m  Cell \u001b[0;32mIn[7], line 1\u001b[0;36m\u001b[0m\n\u001b[0;31m    Q7. Give the order of execution of SQL clauses in an SQL query.\u001b[0m\n\u001b[0m             ^\u001b[0m\n\u001b[0;31mSyntaxError\u001b[0m\u001b[0;31m:\u001b[0m invalid syntax\n"
     ]
    }
   ],
   "source": [
    "Q7. Give the order of execution of SQL clauses in an SQL query.\n",
    "\n",
    "    FROM:Tabes are joined to get the base data\n",
    "    WHERE:The base data is filtered\n",
    "    GROUP BY:The filtered data is grouped.\n",
    "    HAVING:The Group base data is filtered.\n",
    "    SELECT:The final data is returned.\n",
    "    ORDER BY:The final data is sorted.\n",
    "    LIMIT:The returned data is limited to row count."
   ]
  },
  {
   "cell_type": "code",
   "execution_count": null,
   "id": "d5fc5c1e-3f1a-463c-a42c-01d8f0604459",
   "metadata": {},
   "outputs": [],
   "source": []
  }
 ],
 "metadata": {
  "kernelspec": {
   "display_name": "Python 3 (ipykernel)",
   "language": "python",
   "name": "python3"
  },
  "language_info": {
   "codemirror_mode": {
    "name": "ipython",
    "version": 3
   },
   "file_extension": ".py",
   "mimetype": "text/x-python",
   "name": "python",
   "nbconvert_exporter": "python",
   "pygments_lexer": "ipython3",
   "version": "3.10.8"
  }
 },
 "nbformat": 4,
 "nbformat_minor": 5
}
