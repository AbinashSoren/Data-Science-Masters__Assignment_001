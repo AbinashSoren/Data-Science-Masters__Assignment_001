{
 "cells": [
  {
   "cell_type": "code",
   "execution_count": 3,
   "id": "ea210192-9091-4c19-a909-18c7b82ecdcd",
   "metadata": {},
   "outputs": [],
   "source": [
    "# Consider following code to answer further questions:\n",
    "import pandas as pd\n",
    "course_name = ['Data Science', 'Machine Learning', 'Big Data', 'Data Engineer']\n",
    "duration = [2,3,6,4]\n",
    "df = pd.DataFrame(data = {'course_name' : course_name, 'duration' : duration})"
   ]
  },
  {
   "cell_type": "code",
   "execution_count": 10,
   "id": "84c96e62-67c2-4efa-9e55-da2ddfd5dbb0",
   "metadata": {},
   "outputs": [
    {
     "name": "stdout",
     "output_type": "stream",
     "text": [
      "course_name    Machine Learning\n",
      "duration                      3\n",
      "Name: 1, dtype: object\n"
     ]
    }
   ],
   "source": [
    "# Q1. Write a code to print the data present in the second row of the dataframe, df.\n",
    "print(df.iloc[1])"
   ]
  },
  {
   "cell_type": "code",
   "execution_count": 25,
   "id": "c25addba-5e22-43c3-8cd8-7bcf860921d0",
   "metadata": {},
   "outputs": [
    {
     "name": "stdout",
     "output_type": "stream",
     "text": [
      "    course_name  duration\n",
      "0  Data Science         2\n",
      "    course_name  duration\n",
      "0  Data Science         2\n"
     ]
    }
   ],
   "source": [
    "# Q2. What is the difference between the functions loc and iloc in pandas.DataFrame?\n",
    "\n",
    "The loc() function is label based data selecting \n",
    "method which means that we have to pass the name of\n",
    "the row or column which we want to select.\n",
    "\n",
    "print(df.loc[(df['duration']==2) & (df['course_name']=='Data Science')],end='\\n')\n",
    "\n",
    "The iloc() function is an indexed-based selecting \n",
    "method which means that we have to pass an integer\n",
    "index in the method to select a specific row/column. \n",
    "\n",
    "print(df.iloc[[0]])"
   ]
  },
  {
   "cell_type": "code",
   "execution_count": 31,
   "id": "30b407f9-abe9-4057-bc46-bcabc956a31e",
   "metadata": {},
   "outputs": [
    {
     "name": "stdout",
     "output_type": "stream",
     "text": [
      "        course_name  duration\n",
      "3     Data Engineer         4\n",
      "0      Data Science         2\n",
      "1  Machine Learning         3\n",
      "2          Big Data         6\n",
      "\n",
      "  course_name  duration\n",
      "2    Big Data         6\n",
      "\n",
      "        course_name  duration\n",
      "1  Machine Learning         3\n"
     ]
    }
   ],
   "source": [
    "# Q3. Reindex the given dataframe using a variable, reindex = [3,0,1,2] and store it in the variable, new_df\n",
    "# then find the output for both new_df.loc[2] and new_df.iloc[2].\n",
    "\n",
    "# Did you observe any difference in both the outputs? If so then explain it.\n",
    "print(new_df)\n",
    "print()\n",
    "print(new_df.loc[[2]])\n",
    "print()\n",
    "print(new_df.iloc[[2]])\n",
    "\n",
    "Yes, Both the output are diffrent for same index 2.\n",
    "\n",
    "This is because dataframe.loc() displays  the  row based on\n",
    "given index(i.e:index which was given explicitly).\n",
    "but dataframe.iloc() displays the data based on default\n",
    "index which Pandas creates internally \n",
    "\n",
    "\n"
   ]
  },
  {
   "cell_type": "code",
   "execution_count": 4,
   "id": "d9c1e42f-940c-4c70-985e-6de0f12d0b23",
   "metadata": {},
   "outputs": [
    {
     "name": "stdout",
     "output_type": "stream",
     "text": [
      "   column_1  column_2  column_3  column_4  column_5  column_6\n",
      "3  0.318108  0.444405  0.360861  0.401364  0.736160  0.978084\n",
      "0       NaN       NaN       NaN       NaN       NaN       NaN\n",
      "1  0.430482  0.789911  0.694761  0.145297  0.420819  0.709278\n",
      "2  0.511737  0.646789  0.489171  0.989551  0.900232  0.977514\n"
     ]
    }
   ],
   "source": [
    "# Consider the below code to answer further questions:\n",
    "import pandas as pd\n",
    "import numpy as np\n",
    "columns = ['column_1', 'column_2', 'column_3', 'column_4', 'column_5', 'column_6']\n",
    "indices = [1,2,3,4,5,6]\n",
    "#Creating a dataframe:\n",
    "df1 = pd.DataFrame(np.random.rand(6,6), columns = columns, index = indices)\n",
    "new_df=df1.reindex([3,0,1,2])\n",
    "print(new_df)"
   ]
  },
  {
   "cell_type": "code",
   "execution_count": 11,
   "id": "464162ba-1aa5-4021-9d69-9bc1eb9b3fec",
   "metadata": {},
   "outputs": [
    {
     "name": "stdout",
     "output_type": "stream",
     "text": [
      "The mean of column_1 is 0.42010925730205106\n",
      "------------------------------------------------------------------------------------------\n",
      "\n",
      "The standard deviation of column_2 is 0.1735980817537081\n",
      "The mean of column_2 is 0.6270348080788968\n",
      "------------------------------------------------------------------------------------------\n",
      "\n",
      "The mean of column_3 is 0.5149310382778962\n",
      "------------------------------------------------------------------------------------------\n",
      "\n",
      "The mean of column_4 is 0.5120706599546341\n",
      "------------------------------------------------------------------------------------------\n",
      "\n",
      "The mean of column_5 is 0.6857370531575523\n",
      "------------------------------------------------------------------------------------------\n",
      "\n",
      "The mean of column_6 is 0.8882921505737231\n",
      "------------------------------------------------------------------------------------------\n",
      "\n"
     ]
    }
   ],
   "source": [
    "# Q4. Write a code to find the following statistical measurements for the above dataframe df1:\n",
    "# (i) mean of each and every column present in the dataframe.\n",
    "# (ii) standard deviation of column, ‘column_2’\n",
    "\n",
    "\n",
    "for x in new_df.columns:\n",
    "    if x=='column_2':\n",
    "        print('The standard deviation of {} is {}'.format(x,new_df[x].std()))\n",
    "    print('The mean of {} is {}'.format(x,new_df[x].mean()))\n",
    "    print('---'*30,end='\\n\\n')"
   ]
  },
  {
   "cell_type": "code",
   "execution_count": 53,
   "id": "8cdcab14-c9ed-422f-b985-68781e118fb7",
   "metadata": {},
   "outputs": [
    {
     "name": "stdout",
     "output_type": "stream",
     "text": [
      "   column_1  column_2  column_3  column_4  column_5  column_6\n",
      "3  0.318108  0.444405  0.360861  0.401364  0.736160  0.978084\n",
      "0       NaN       NaN       NaN       NaN       NaN       NaN\n",
      "1  0.430482  0.789911  0.694761  0.145297  0.420819  0.709278\n",
      "2  0.511737       aBc  0.489171  0.989551  0.900232  0.977514\n"
     ]
    },
    {
     "ename": "TypeError",
     "evalue": "unsupported operand type(s) for +: 'float' and 'str'",
     "output_type": "error",
     "traceback": [
      "\u001b[0;31m---------------------------------------------------------------------------\u001b[0m",
      "\u001b[0;31mTypeError\u001b[0m                                 Traceback (most recent call last)",
      "Cell \u001b[0;32mIn[53], line 12\u001b[0m\n\u001b[1;32m     10\u001b[0m df1\u001b[38;5;241m.\u001b[39mloc[\u001b[38;5;241m2\u001b[39m,\u001b[38;5;124m'\u001b[39m\u001b[38;5;124mcolumn_2\u001b[39m\u001b[38;5;124m'\u001b[39m]\u001b[38;5;241m=\u001b[39m\u001b[38;5;124m'\u001b[39m\u001b[38;5;124maBc\u001b[39m\u001b[38;5;124m'\u001b[39m\n\u001b[1;32m     11\u001b[0m \u001b[38;5;28mprint\u001b[39m(df1)\n\u001b[0;32m---> 12\u001b[0m \u001b[43mdf1\u001b[49m\u001b[43m[\u001b[49m\u001b[38;5;124;43m'\u001b[39;49m\u001b[38;5;124;43mcolumn_2\u001b[39;49m\u001b[38;5;124;43m'\u001b[39;49m\u001b[43m]\u001b[49m\u001b[38;5;241;43m.\u001b[39;49m\u001b[43mmean\u001b[49m\u001b[43m(\u001b[49m\u001b[43m)\u001b[49m\n",
      "File \u001b[0;32m/opt/conda/lib/python3.10/site-packages/pandas/core/generic.py:11847\u001b[0m, in \u001b[0;36mNDFrame._add_numeric_operations.<locals>.mean\u001b[0;34m(self, axis, skipna, level, numeric_only, **kwargs)\u001b[0m\n\u001b[1;32m  11829\u001b[0m \u001b[38;5;129m@doc\u001b[39m(\n\u001b[1;32m  11830\u001b[0m     _num_doc,\n\u001b[1;32m  11831\u001b[0m     desc\u001b[38;5;241m=\u001b[39m\u001b[38;5;124m\"\u001b[39m\u001b[38;5;124mReturn the mean of the values over the requested axis.\u001b[39m\u001b[38;5;124m\"\u001b[39m,\n\u001b[0;32m   (...)\u001b[0m\n\u001b[1;32m  11845\u001b[0m     \u001b[38;5;241m*\u001b[39m\u001b[38;5;241m*\u001b[39mkwargs,\n\u001b[1;32m  11846\u001b[0m ):\n\u001b[0;32m> 11847\u001b[0m     \u001b[38;5;28;01mreturn\u001b[39;00m \u001b[43mNDFrame\u001b[49m\u001b[38;5;241;43m.\u001b[39;49m\u001b[43mmean\u001b[49m\u001b[43m(\u001b[49m\u001b[38;5;28;43mself\u001b[39;49m\u001b[43m,\u001b[49m\u001b[43m \u001b[49m\u001b[43maxis\u001b[49m\u001b[43m,\u001b[49m\u001b[43m \u001b[49m\u001b[43mskipna\u001b[49m\u001b[43m,\u001b[49m\u001b[43m \u001b[49m\u001b[43mlevel\u001b[49m\u001b[43m,\u001b[49m\u001b[43m \u001b[49m\u001b[43mnumeric_only\u001b[49m\u001b[43m,\u001b[49m\u001b[43m \u001b[49m\u001b[38;5;241;43m*\u001b[39;49m\u001b[38;5;241;43m*\u001b[39;49m\u001b[43mkwargs\u001b[49m\u001b[43m)\u001b[49m\n",
      "File \u001b[0;32m/opt/conda/lib/python3.10/site-packages/pandas/core/generic.py:11401\u001b[0m, in \u001b[0;36mNDFrame.mean\u001b[0;34m(self, axis, skipna, level, numeric_only, **kwargs)\u001b[0m\n\u001b[1;32m  11393\u001b[0m \u001b[38;5;28;01mdef\u001b[39;00m \u001b[38;5;21mmean\u001b[39m(\n\u001b[1;32m  11394\u001b[0m     \u001b[38;5;28mself\u001b[39m,\n\u001b[1;32m  11395\u001b[0m     axis: Axis \u001b[38;5;241m|\u001b[39m \u001b[38;5;28;01mNone\u001b[39;00m \u001b[38;5;241m|\u001b[39m lib\u001b[38;5;241m.\u001b[39mNoDefault \u001b[38;5;241m=\u001b[39m lib\u001b[38;5;241m.\u001b[39mno_default,\n\u001b[0;32m   (...)\u001b[0m\n\u001b[1;32m  11399\u001b[0m     \u001b[38;5;241m*\u001b[39m\u001b[38;5;241m*\u001b[39mkwargs,\n\u001b[1;32m  11400\u001b[0m ) \u001b[38;5;241m-\u001b[39m\u001b[38;5;241m>\u001b[39m Series \u001b[38;5;241m|\u001b[39m \u001b[38;5;28mfloat\u001b[39m:\n\u001b[0;32m> 11401\u001b[0m     \u001b[38;5;28;01mreturn\u001b[39;00m \u001b[38;5;28;43mself\u001b[39;49m\u001b[38;5;241;43m.\u001b[39;49m\u001b[43m_stat_function\u001b[49m\u001b[43m(\u001b[49m\n\u001b[1;32m  11402\u001b[0m \u001b[43m        \u001b[49m\u001b[38;5;124;43m\"\u001b[39;49m\u001b[38;5;124;43mmean\u001b[39;49m\u001b[38;5;124;43m\"\u001b[39;49m\u001b[43m,\u001b[49m\u001b[43m \u001b[49m\u001b[43mnanops\u001b[49m\u001b[38;5;241;43m.\u001b[39;49m\u001b[43mnanmean\u001b[49m\u001b[43m,\u001b[49m\u001b[43m \u001b[49m\u001b[43maxis\u001b[49m\u001b[43m,\u001b[49m\u001b[43m \u001b[49m\u001b[43mskipna\u001b[49m\u001b[43m,\u001b[49m\u001b[43m \u001b[49m\u001b[43mlevel\u001b[49m\u001b[43m,\u001b[49m\u001b[43m \u001b[49m\u001b[43mnumeric_only\u001b[49m\u001b[43m,\u001b[49m\u001b[43m \u001b[49m\u001b[38;5;241;43m*\u001b[39;49m\u001b[38;5;241;43m*\u001b[39;49m\u001b[43mkwargs\u001b[49m\n\u001b[1;32m  11403\u001b[0m \u001b[43m    \u001b[49m\u001b[43m)\u001b[49m\n",
      "File \u001b[0;32m/opt/conda/lib/python3.10/site-packages/pandas/core/generic.py:11353\u001b[0m, in \u001b[0;36mNDFrame._stat_function\u001b[0;34m(self, name, func, axis, skipna, level, numeric_only, **kwargs)\u001b[0m\n\u001b[1;32m  11343\u001b[0m     warnings\u001b[38;5;241m.\u001b[39mwarn(\n\u001b[1;32m  11344\u001b[0m         \u001b[38;5;124m\"\u001b[39m\u001b[38;5;124mUsing the level keyword in DataFrame and Series aggregations is \u001b[39m\u001b[38;5;124m\"\u001b[39m\n\u001b[1;32m  11345\u001b[0m         \u001b[38;5;124m\"\u001b[39m\u001b[38;5;124mdeprecated and will be removed in a future version. Use groupby \u001b[39m\u001b[38;5;124m\"\u001b[39m\n\u001b[0;32m   (...)\u001b[0m\n\u001b[1;32m  11348\u001b[0m         stacklevel\u001b[38;5;241m=\u001b[39mfind_stack_level(),\n\u001b[1;32m  11349\u001b[0m     )\n\u001b[1;32m  11350\u001b[0m     \u001b[38;5;28;01mreturn\u001b[39;00m \u001b[38;5;28mself\u001b[39m\u001b[38;5;241m.\u001b[39m_agg_by_level(\n\u001b[1;32m  11351\u001b[0m         name, axis\u001b[38;5;241m=\u001b[39maxis, level\u001b[38;5;241m=\u001b[39mlevel, skipna\u001b[38;5;241m=\u001b[39mskipna, numeric_only\u001b[38;5;241m=\u001b[39mnumeric_only\n\u001b[1;32m  11352\u001b[0m     )\n\u001b[0;32m> 11353\u001b[0m \u001b[38;5;28;01mreturn\u001b[39;00m \u001b[38;5;28;43mself\u001b[39;49m\u001b[38;5;241;43m.\u001b[39;49m\u001b[43m_reduce\u001b[49m\u001b[43m(\u001b[49m\n\u001b[1;32m  11354\u001b[0m \u001b[43m    \u001b[49m\u001b[43mfunc\u001b[49m\u001b[43m,\u001b[49m\u001b[43m \u001b[49m\u001b[43mname\u001b[49m\u001b[38;5;241;43m=\u001b[39;49m\u001b[43mname\u001b[49m\u001b[43m,\u001b[49m\u001b[43m \u001b[49m\u001b[43maxis\u001b[49m\u001b[38;5;241;43m=\u001b[39;49m\u001b[43maxis\u001b[49m\u001b[43m,\u001b[49m\u001b[43m \u001b[49m\u001b[43mskipna\u001b[49m\u001b[38;5;241;43m=\u001b[39;49m\u001b[43mskipna\u001b[49m\u001b[43m,\u001b[49m\u001b[43m \u001b[49m\u001b[43mnumeric_only\u001b[49m\u001b[38;5;241;43m=\u001b[39;49m\u001b[43mnumeric_only\u001b[49m\n\u001b[1;32m  11355\u001b[0m \u001b[43m\u001b[49m\u001b[43m)\u001b[49m\n",
      "File \u001b[0;32m/opt/conda/lib/python3.10/site-packages/pandas/core/series.py:4816\u001b[0m, in \u001b[0;36mSeries._reduce\u001b[0;34m(self, op, name, axis, skipna, numeric_only, filter_type, **kwds)\u001b[0m\n\u001b[1;32m   4812\u001b[0m     \u001b[38;5;28;01mraise\u001b[39;00m \u001b[38;5;167;01mNotImplementedError\u001b[39;00m(\n\u001b[1;32m   4813\u001b[0m         \u001b[38;5;124mf\u001b[39m\u001b[38;5;124m\"\u001b[39m\u001b[38;5;124mSeries.\u001b[39m\u001b[38;5;132;01m{\u001b[39;00mname\u001b[38;5;132;01m}\u001b[39;00m\u001b[38;5;124m does not implement \u001b[39m\u001b[38;5;132;01m{\u001b[39;00mkwd_name\u001b[38;5;132;01m}\u001b[39;00m\u001b[38;5;124m.\u001b[39m\u001b[38;5;124m\"\u001b[39m\n\u001b[1;32m   4814\u001b[0m     )\n\u001b[1;32m   4815\u001b[0m \u001b[38;5;28;01mwith\u001b[39;00m np\u001b[38;5;241m.\u001b[39merrstate(\u001b[38;5;28mall\u001b[39m\u001b[38;5;241m=\u001b[39m\u001b[38;5;124m\"\u001b[39m\u001b[38;5;124mignore\u001b[39m\u001b[38;5;124m\"\u001b[39m):\n\u001b[0;32m-> 4816\u001b[0m     \u001b[38;5;28;01mreturn\u001b[39;00m \u001b[43mop\u001b[49m\u001b[43m(\u001b[49m\u001b[43mdelegate\u001b[49m\u001b[43m,\u001b[49m\u001b[43m \u001b[49m\u001b[43mskipna\u001b[49m\u001b[38;5;241;43m=\u001b[39;49m\u001b[43mskipna\u001b[49m\u001b[43m,\u001b[49m\u001b[43m \u001b[49m\u001b[38;5;241;43m*\u001b[39;49m\u001b[38;5;241;43m*\u001b[39;49m\u001b[43mkwds\u001b[49m\u001b[43m)\u001b[49m\n",
      "File \u001b[0;32m/opt/conda/lib/python3.10/site-packages/pandas/core/nanops.py:93\u001b[0m, in \u001b[0;36mdisallow.__call__.<locals>._f\u001b[0;34m(*args, **kwargs)\u001b[0m\n\u001b[1;32m     91\u001b[0m \u001b[38;5;28;01mtry\u001b[39;00m:\n\u001b[1;32m     92\u001b[0m     \u001b[38;5;28;01mwith\u001b[39;00m np\u001b[38;5;241m.\u001b[39merrstate(invalid\u001b[38;5;241m=\u001b[39m\u001b[38;5;124m\"\u001b[39m\u001b[38;5;124mignore\u001b[39m\u001b[38;5;124m\"\u001b[39m):\n\u001b[0;32m---> 93\u001b[0m         \u001b[38;5;28;01mreturn\u001b[39;00m \u001b[43mf\u001b[49m\u001b[43m(\u001b[49m\u001b[38;5;241;43m*\u001b[39;49m\u001b[43margs\u001b[49m\u001b[43m,\u001b[49m\u001b[43m \u001b[49m\u001b[38;5;241;43m*\u001b[39;49m\u001b[38;5;241;43m*\u001b[39;49m\u001b[43mkwargs\u001b[49m\u001b[43m)\u001b[49m\n\u001b[1;32m     94\u001b[0m \u001b[38;5;28;01mexcept\u001b[39;00m \u001b[38;5;167;01mValueError\u001b[39;00m \u001b[38;5;28;01mas\u001b[39;00m e:\n\u001b[1;32m     95\u001b[0m     \u001b[38;5;66;03m# we want to transform an object array\u001b[39;00m\n\u001b[1;32m     96\u001b[0m     \u001b[38;5;66;03m# ValueError message to the more typical TypeError\u001b[39;00m\n\u001b[1;32m     97\u001b[0m     \u001b[38;5;66;03m# e.g. this is normally a disallowed function on\u001b[39;00m\n\u001b[1;32m     98\u001b[0m     \u001b[38;5;66;03m# object arrays that contain strings\u001b[39;00m\n\u001b[1;32m     99\u001b[0m     \u001b[38;5;28;01mif\u001b[39;00m is_object_dtype(args[\u001b[38;5;241m0\u001b[39m]):\n",
      "File \u001b[0;32m/opt/conda/lib/python3.10/site-packages/pandas/core/nanops.py:155\u001b[0m, in \u001b[0;36mbottleneck_switch.__call__.<locals>.f\u001b[0;34m(values, axis, skipna, **kwds)\u001b[0m\n\u001b[1;32m    153\u001b[0m         result \u001b[38;5;241m=\u001b[39m alt(values, axis\u001b[38;5;241m=\u001b[39maxis, skipna\u001b[38;5;241m=\u001b[39mskipna, \u001b[38;5;241m*\u001b[39m\u001b[38;5;241m*\u001b[39mkwds)\n\u001b[1;32m    154\u001b[0m \u001b[38;5;28;01melse\u001b[39;00m:\n\u001b[0;32m--> 155\u001b[0m     result \u001b[38;5;241m=\u001b[39m \u001b[43malt\u001b[49m\u001b[43m(\u001b[49m\u001b[43mvalues\u001b[49m\u001b[43m,\u001b[49m\u001b[43m \u001b[49m\u001b[43maxis\u001b[49m\u001b[38;5;241;43m=\u001b[39;49m\u001b[43maxis\u001b[49m\u001b[43m,\u001b[49m\u001b[43m \u001b[49m\u001b[43mskipna\u001b[49m\u001b[38;5;241;43m=\u001b[39;49m\u001b[43mskipna\u001b[49m\u001b[43m,\u001b[49m\u001b[43m \u001b[49m\u001b[38;5;241;43m*\u001b[39;49m\u001b[38;5;241;43m*\u001b[39;49m\u001b[43mkwds\u001b[49m\u001b[43m)\u001b[49m\n\u001b[1;32m    157\u001b[0m \u001b[38;5;28;01mreturn\u001b[39;00m result\n",
      "File \u001b[0;32m/opt/conda/lib/python3.10/site-packages/pandas/core/nanops.py:418\u001b[0m, in \u001b[0;36m_datetimelike_compat.<locals>.new_func\u001b[0;34m(values, axis, skipna, mask, **kwargs)\u001b[0m\n\u001b[1;32m    415\u001b[0m \u001b[38;5;28;01mif\u001b[39;00m datetimelike \u001b[38;5;129;01mand\u001b[39;00m mask \u001b[38;5;129;01mis\u001b[39;00m \u001b[38;5;28;01mNone\u001b[39;00m:\n\u001b[1;32m    416\u001b[0m     mask \u001b[38;5;241m=\u001b[39m isna(values)\n\u001b[0;32m--> 418\u001b[0m result \u001b[38;5;241m=\u001b[39m \u001b[43mfunc\u001b[49m\u001b[43m(\u001b[49m\u001b[43mvalues\u001b[49m\u001b[43m,\u001b[49m\u001b[43m \u001b[49m\u001b[43maxis\u001b[49m\u001b[38;5;241;43m=\u001b[39;49m\u001b[43maxis\u001b[49m\u001b[43m,\u001b[49m\u001b[43m \u001b[49m\u001b[43mskipna\u001b[49m\u001b[38;5;241;43m=\u001b[39;49m\u001b[43mskipna\u001b[49m\u001b[43m,\u001b[49m\u001b[43m \u001b[49m\u001b[43mmask\u001b[49m\u001b[38;5;241;43m=\u001b[39;49m\u001b[43mmask\u001b[49m\u001b[43m,\u001b[49m\u001b[43m \u001b[49m\u001b[38;5;241;43m*\u001b[39;49m\u001b[38;5;241;43m*\u001b[39;49m\u001b[43mkwargs\u001b[49m\u001b[43m)\u001b[49m\n\u001b[1;32m    420\u001b[0m \u001b[38;5;28;01mif\u001b[39;00m datetimelike:\n\u001b[1;32m    421\u001b[0m     result \u001b[38;5;241m=\u001b[39m _wrap_results(result, orig_values\u001b[38;5;241m.\u001b[39mdtype, fill_value\u001b[38;5;241m=\u001b[39miNaT)\n",
      "File \u001b[0;32m/opt/conda/lib/python3.10/site-packages/pandas/core/nanops.py:706\u001b[0m, in \u001b[0;36mnanmean\u001b[0;34m(values, axis, skipna, mask)\u001b[0m\n\u001b[1;32m    703\u001b[0m     dtype_count \u001b[38;5;241m=\u001b[39m dtype\n\u001b[1;32m    705\u001b[0m count \u001b[38;5;241m=\u001b[39m _get_counts(values\u001b[38;5;241m.\u001b[39mshape, mask, axis, dtype\u001b[38;5;241m=\u001b[39mdtype_count)\n\u001b[0;32m--> 706\u001b[0m the_sum \u001b[38;5;241m=\u001b[39m _ensure_numeric(\u001b[43mvalues\u001b[49m\u001b[38;5;241;43m.\u001b[39;49m\u001b[43msum\u001b[49m\u001b[43m(\u001b[49m\u001b[43maxis\u001b[49m\u001b[43m,\u001b[49m\u001b[43m \u001b[49m\u001b[43mdtype\u001b[49m\u001b[38;5;241;43m=\u001b[39;49m\u001b[43mdtype_sum\u001b[49m\u001b[43m)\u001b[49m)\n\u001b[1;32m    708\u001b[0m \u001b[38;5;28;01mif\u001b[39;00m axis \u001b[38;5;129;01mis\u001b[39;00m \u001b[38;5;129;01mnot\u001b[39;00m \u001b[38;5;28;01mNone\u001b[39;00m \u001b[38;5;129;01mand\u001b[39;00m \u001b[38;5;28mgetattr\u001b[39m(the_sum, \u001b[38;5;124m\"\u001b[39m\u001b[38;5;124mndim\u001b[39m\u001b[38;5;124m\"\u001b[39m, \u001b[38;5;28;01mFalse\u001b[39;00m):\n\u001b[1;32m    709\u001b[0m     count \u001b[38;5;241m=\u001b[39m cast(np\u001b[38;5;241m.\u001b[39mndarray, count)\n",
      "File \u001b[0;32m/opt/conda/lib/python3.10/site-packages/numpy/core/_methods.py:48\u001b[0m, in \u001b[0;36m_sum\u001b[0;34m(a, axis, dtype, out, keepdims, initial, where)\u001b[0m\n\u001b[1;32m     46\u001b[0m \u001b[38;5;28;01mdef\u001b[39;00m \u001b[38;5;21m_sum\u001b[39m(a, axis\u001b[38;5;241m=\u001b[39m\u001b[38;5;28;01mNone\u001b[39;00m, dtype\u001b[38;5;241m=\u001b[39m\u001b[38;5;28;01mNone\u001b[39;00m, out\u001b[38;5;241m=\u001b[39m\u001b[38;5;28;01mNone\u001b[39;00m, keepdims\u001b[38;5;241m=\u001b[39m\u001b[38;5;28;01mFalse\u001b[39;00m,\n\u001b[1;32m     47\u001b[0m          initial\u001b[38;5;241m=\u001b[39m_NoValue, where\u001b[38;5;241m=\u001b[39m\u001b[38;5;28;01mTrue\u001b[39;00m):\n\u001b[0;32m---> 48\u001b[0m     \u001b[38;5;28;01mreturn\u001b[39;00m \u001b[43mumr_sum\u001b[49m\u001b[43m(\u001b[49m\u001b[43ma\u001b[49m\u001b[43m,\u001b[49m\u001b[43m \u001b[49m\u001b[43maxis\u001b[49m\u001b[43m,\u001b[49m\u001b[43m \u001b[49m\u001b[43mdtype\u001b[49m\u001b[43m,\u001b[49m\u001b[43m \u001b[49m\u001b[43mout\u001b[49m\u001b[43m,\u001b[49m\u001b[43m \u001b[49m\u001b[43mkeepdims\u001b[49m\u001b[43m,\u001b[49m\u001b[43m \u001b[49m\u001b[43minitial\u001b[49m\u001b[43m,\u001b[49m\u001b[43m \u001b[49m\u001b[43mwhere\u001b[49m\u001b[43m)\u001b[49m\n",
      "\u001b[0;31mTypeError\u001b[0m: unsupported operand type(s) for +: 'float' and 'str'"
     ]
    }
   ],
   "source": [
    "# Q5. Replace the data present in the second row of column, ‘column_2’ by a string variable then find the\n",
    "# mean of column, column_2.\n",
    "# If you are getting errors in executing it then explain why.\n",
    "# [Hint: To replace the data use df1.loc[] and equate this to string data of your choice.]\n",
    "\n",
    "df1=new_df.copy()\n",
    "# print(df1)\n",
    "\n",
    "# df1.iloc[[0]]['column_2']='aBc'\n",
    "df1.loc[2,'column_2']='aBc'\n",
    "print(df1)\n",
    "df1['column_2'].mean()\n",
    "\n",
    "On executing the above code,we get 'TypeError: unsupported operand type(s) for +: 'float' and 'str'\n",
    "'.'.This is because we cannot add  a string and float,due to compatibility issue. \n"
   ]
  },
  {
   "cell_type": "code",
   "execution_count": null,
   "id": "76c43d77-ecd1-40e5-aba0-45dc05771048",
   "metadata": {},
   "outputs": [],
   "source": [
    "# Q6. What do you understand about the windows function in pandas and list the types of windows\n",
    "# functions?\n",
    "\n",
    "Pandas Window functions are functions where the input values are taken from a “window” of \n",
    "one or more rows in a series or a table and calculation is performed over them. The word window \n",
    "means the number of rows between the two boundaries by which we perform calculations including \n",
    "the boundary rows.\n",
    "\n",
    "There are 4 Types of window operation:\n",
    "1. Rolling window operations\n",
    "2. Weighted window operations\n",
    "3. Expanding window operations\n",
    "4. Exponentially Weighted window"
   ]
  },
  {
   "cell_type": "code",
   "execution_count": 59,
   "id": "a5be21e3-a35e-4a6e-bb91-e1218dd8458d",
   "metadata": {},
   "outputs": [
    {
     "name": "stdout",
     "output_type": "stream",
     "text": [
      "The current month of date is  3\n",
      "The current year  of date is  2023\n"
     ]
    }
   ],
   "source": [
    "# Q7. Write a code to print only the current month and year at the time of answering this question.\n",
    "# [Hint: Use pandas.datetime function]\n",
    "\n",
    "import pandas as pd\n",
    "import datetime \n",
    "now=datetime.datetime.now()\n",
    "print('The current month of date is ',now.month)\n",
    "print('The current year  of date is ',now.year)"
   ]
  },
  {
   "cell_type": "code",
   "execution_count": 68,
   "id": "029230f4-f04b-4b03-b7c5-df9b2bb52c29",
   "metadata": {},
   "outputs": [
    {
     "name": "stdin",
     "output_type": "stream",
     "text": [
      "Enter the Date in dd/mm/yyyy 12/03/2023\n",
      "Enter the Date in dd/mm/yyyy 25/12/2025\n"
     ]
    },
    {
     "name": "stdout",
     "output_type": "stream",
     "text": [
      "2023-12-03 00:00:00 2025-12-25 00:00:00\n",
      "The diffrence between 25/12/2025 and 12/03/2023 in days is 753\n",
      "The diffrence between 25/12/2025 and 12/03/2023 in months is 0\n",
      "The diffrence between 25/12/2025 and 12/03/2023 in months is 0\n"
     ]
    },
    {
     "name": "stderr",
     "output_type": "stream",
     "text": [
      "/tmp/ipykernel_77/3531745991.py:11: UserWarning: Parsing dates in DD/MM/YYYY format when dayfirst=False (the default) was specified. This may lead to inconsistently parsed dates! Specify a format to ensure consistent parsing.\n",
      "  date2=pd.to_datetime(d2)\n"
     ]
    }
   ],
   "source": [
    "# Q8. Write a Python program that takes in two dates as input (in the format YYYY-MM-DD) and\n",
    "# calculates the difference between them in days, hours, and minutes using Pandas time delta. The\n",
    "# program should prompt the user to enter the dates and display the result.\n",
    "\n",
    "from dateutil import relativedelta\n",
    "from datetime import  datetime\n",
    "d1=input('Enter the Date in dd/mm/yyyy')\n",
    "d2=input('Enter the Date in dd/mm/yyyy')\n",
    "\n",
    "date1=pd.to_datetime(d1)\n",
    "date2=pd.to_datetime(d2)\n",
    "print(date1,date2)\n",
    "diff=date2-date1\n",
    "print('The diffrence between {} and {} in days is {}'.format(d2,d1,diff.days))\n",
    "print('The diffrence between {} and {} in hours is {}'.format(d2,d1,diff.seconds//3600))\n",
    "print('The diffrence between {} and {} in minutes is {}'.format(d2,d1,(diff.seconds%3600)//60))"
   ]
  },
  {
   "cell_type": "code",
   "execution_count": 2,
   "id": "ce839d79-1ecb-4ef2-b963-f57edd43a120",
   "metadata": {},
   "outputs": [
    {
     "name": "stdin",
     "output_type": "stream",
     "text": [
      "Enter anyone of the dataset you want to see \"['anagrams', 'anscombe', 'attention', 'brain_networks', 'car_crashes', 'diamonds', 'dots', 'dowjones', 'exercise', 'flights', 'fmri', 'geyser', 'glue', 'healthexp', 'iris', 'mpg', 'penguins', 'planets', 'seaice', 'taxis', 'tips', 'titanic']\" tips\n"
     ]
    },
    {
     "name": "stdout",
     "output_type": "stream",
     "text": [
      "     total_bill   tip     sex smoker   day    time  size\n",
      "0         16.99  1.01  Female     No   Sun  Dinner     2\n",
      "1         10.34  1.66    Male     No   Sun  Dinner     3\n",
      "2         21.01  3.50    Male     No   Sun  Dinner     3\n",
      "3         23.68  3.31    Male     No   Sun  Dinner     2\n",
      "4         24.59  3.61  Female     No   Sun  Dinner     4\n",
      "..          ...   ...     ...    ...   ...     ...   ...\n",
      "239       29.03  5.92    Male     No   Sat  Dinner     3\n",
      "240       27.18  2.00  Female    Yes   Sat  Dinner     2\n",
      "241       22.67  2.00    Male    Yes   Sat  Dinner     2\n",
      "242       17.82  1.75    Male     No   Sat  Dinner     2\n",
      "243       18.78  3.00  Female     No  Thur  Dinner     2\n",
      "\n",
      "[244 rows x 7 columns]\n"
     ]
    },
    {
     "name": "stdin",
     "output_type": "stream",
     "text": [
      "Enter the column name day\n",
      "Enter the order Thur,Fri,Sat,Sun\n"
     ]
    },
    {
     "name": "stdout",
     "output_type": "stream",
     "text": [
      "<class 'pandas.core.frame.DataFrame'>\n",
      "RangeIndex: 244 entries, 0 to 243\n",
      "Data columns (total 7 columns):\n",
      " #   Column      Non-Null Count  Dtype   \n",
      "---  ------      --------------  -----   \n",
      " 0   total_bill  244 non-null    float64 \n",
      " 1   tip         244 non-null    float64 \n",
      " 2   sex         244 non-null    object  \n",
      " 3   smoker      244 non-null    object  \n",
      " 4   day         244 non-null    category\n",
      " 5   time        244 non-null    object  \n",
      " 6   size        244 non-null    int64   \n",
      "dtypes: category(1), float64(2), int64(1), object(3)\n",
      "memory usage: 12.0+ KB\n",
      "None\n"
     ]
    }
   ],
   "source": [
    "# Q9. Write a Python program that reads a CSV file containing categorical data and converts a specified\n",
    "# column to a categorical data type. The program should prompt the user to enter the file path, column\n",
    "# name, and category order, and then display the sorted data.\n",
    "\n",
    "import pandas as pd\n",
    "import seaborn as sb\n",
    "\n",
    "# print(sb.get_dataset_names())\n",
    "\n",
    "# ['anagrams',\n",
    "# 'anscombe',\n",
    "# 'attention',\n",
    "# 'brain_networks',\n",
    "# 'car_crashes',\n",
    "# 'diamonds',\n",
    "# 'dots',\n",
    "# 'dowjones',\n",
    "# 'exercise',\n",
    "# 'flights',\n",
    "# 'fmri',\n",
    "# 'geyser',\n",
    "# 'glue',\n",
    "# 'healthexp',\n",
    "# 'iris',\n",
    "# 'mpg',\n",
    "# 'penguins',\n",
    "# 'planets',\n",
    "# 'seaice',\n",
    "# 'taxis',\n",
    "# 'tips',\n",
    "# 'titanic']\n",
    "\n",
    "\n",
    "dataset=input('''Enter anyone of the dataset you want to see \"['anagrams', 'anscombe', 'attention', 'brain_networks', 'car_crashes', 'diamonds', 'dots', 'dowjones', 'exercise', 'flights', 'fmri', 'geyser', 'glue', 'healthexp', 'iris', 'mpg', 'penguins', 'planets', 'seaice', 'taxis', 'tips', 'titanic']\"''')\n",
    "data=sb.load_dataset(dataset)\n",
    "data.to_csv('output.csv')\n",
    "\n",
    "\n",
    "\n",
    "try:\n",
    "    df=pd.read_csv('output.csv')\n",
    "    df=df.drop('Unnamed: 0',axis=1)\n",
    "    print(df)\n",
    "except:\n",
    "    print('Check the ouput')\n",
    "    \n",
    "col=input('Enter the column name')\n",
    "\n",
    "od=input('Enter the order').split(',')\n",
    "\n",
    "df[col]=pd.Categorical(df[col],categories=od)\n",
    "\n",
    "print(df.info())"
   ]
  },
  {
   "cell_type": "code",
   "execution_count": 8,
   "id": "70d67c56-7a22-4379-968f-38322797ca23",
   "metadata": {},
   "outputs": [
    {
     "name": "stderr",
     "output_type": "stream",
     "text": [
      "/tmp/ipykernel_3581/845948015.py:14: FutureWarning: The default value of numeric_only in DataFrameGroupBy.sum is deprecated. In a future version, numeric_only will default to False. Either specify numeric_only or select only columns which should be valid for the function.\n",
      "  group=df.groupby(['Product line','Date']).sum()\n"
     ]
    },
    {
     "data": {
      "image/png": "[encoded data removed]",
      "text/plain": [
       "<Figure size 2000x600 with 1 Axes>"
      ]
     },
     "metadata": {},
     "output_type": "display_data"
    }
   ],
   "source": [
    "# Q10. Write a Python program that reads a CSV file containing sales data for different products and\n",
    "# visualizes the data using a stacked bar chart to show the sales of each product category over time. The\n",
    "# program should prompt the user to enter the file path and display the chart.\n",
    "\n",
    "import matplotlib.pyplot as plt\n",
    "import pandas as pd\n",
    "\n",
    "df=pd.read_csv('sales.csv')\n",
    "# print(df.head())\n",
    "\n",
    "df['Date']=pd.to_datetime(df['Date'])\n",
    "# print(df.head())\n",
    "\n",
    "group=df.groupby(['Product line','Date']).sum()\n",
    "\n",
    "ndf=pd.DataFrame(group,columns=['Total'])\n",
    "# print(ndf)\n",
    "unstack=ndf.unstack(level=0)\n",
    "# print(unstack)\n",
    "\n",
    "px=unstack.plot(kind='bar',stacked=True,figsize=(20,6))\n",
    "px.set_xlabel('Dates')\n",
    "plt.xticks(rotation=270)\n",
    "px.set_ylabel('Product')\n",
    "px.legend(loc='upper right')\n",
    "\n",
    "plt.show()"
   ]
  },
  {
   "cell_type": "code",
   "execution_count": 24,
   "id": "b04468e6-55e1-46f4-a469-87acf48caaa7",
   "metadata": {},
   "outputs": [
    {
     "name": "stdin",
     "output_type": "stream",
     "text": [
      "Enter the name of the csv called as mark mark\n"
     ]
    },
    {
     "name": "stdout",
     "output_type": "stream",
     "text": [
      "  Statistic  Value\n",
      "0      Mean   83.5\n",
      "1    Median   85.0\n",
      "2      Mode   85.0\n"
     ]
    },
    {
     "name": "stderr",
     "output_type": "stream",
     "text": [
      "/tmp/ipykernel_3581/3705113797.py:54: FutureWarning: Unlike other reduction functions (e.g. `skew`, `kurtosis`), the default behavior of `mode` typically preserves the axis it acts along. In SciPy 1.11.0, this behavior will change: the default value of `keepdims` will become False, the `axis` over which the statistic is taken will be eliminated, and the value None will no longer be accepted. Set `keepdims` to True or False to avoid this warning.\n",
      "  mode=stats.mode(df['Marks'])\n"
     ]
    }
   ],
   "source": [
    "# Q11. You are given a CSV file containing student data that includes the student ID and their test score. Write\n",
    "# a Python program that reads the CSV file, calculates the mean, median, and mode of the test scores, and\n",
    "# displays the results in a table.\n",
    "# The program should do the followingM\n",
    "# I Prompt the user to enter the file path of the CSV file containing the student dataR\n",
    "# I Read the CSV file into a Pandas DataFrameR\n",
    "# I Calculate the mean, median, and mode of the test scores using Pandas toolsR\n",
    "# I Display the mean, median, and mode in a table.\n",
    "# Assume the CSV file contains the following columnsM\n",
    "# I Student ID: The ID of the studentR\n",
    "# I Test Score: The score of the student's test.\n",
    "# Example usage of the program:\n",
    "# Enter the file path of the CSV file containing the student data: student_data.csv\n",
    "# +-----------+--------+\n",
    "# | Statistic | Value |\n",
    "# +-----------+--------+\n",
    "# | Mean | 79.6 |\n",
    "# | Median | 82 |\n",
    "# | Mode | 85, 90 |\n",
    "# +-----------+--------+\n",
    "# Assume that the CSV file student_data.csv contains the following data:\n",
    "# Student ID,Test Score\n",
    "# 1,85\n",
    "# 2,90\n",
    "# 3,80\n",
    "# 4,75\n",
    "# 5,85\n",
    "# 6,82\n",
    "# 7,78\n",
    "# 8,85\n",
    "# 9,90\n",
    "# 10,85\n",
    "# The program should calculate the mean, median, and mode of the test scores and display the results\n",
    "# in a table.\n",
    "\n",
    "from scipy import stats\n",
    "id=[x for x in range(1,11)]\n",
    "marks=[85,90,80,75,85,82,78,85,90,85]\n",
    "\n",
    "df=pd.DataFrame({'ID':id,\"Marks\":marks})\n",
    "# print(df)\n",
    "\n",
    "df.to_csv('mark.csv')\n",
    "\n",
    "file=input('Enter the name of the csv called as mark')\n",
    "file=file+'.csv'\n",
    "# print(file)\n",
    "ndf=pd.read_csv(file)\n",
    "ndf=ndf.drop('Unnamed: 0',axis=1)\n",
    "# ndf.head()\n",
    "\n",
    "mean=df['Marks'].mean()\n",
    "median=df['Marks'].median()\n",
    "mode=stats.mode(df['Marks'])\n",
    "# print(mean,median,mode[0][0])\n",
    "\n",
    "\n",
    "statistic=['Mean','Median','Mode']\n",
    "value=[mean,median,mode[0][0]]\n",
    "\n",
    "fdf=pd.DataFrame({'Statistic':statistic,'Value':value})\n",
    "print(fdf)"
   ]
  },
  {
   "cell_type": "code",
   "execution_count": null,
   "id": "534d5055-a08e-47de-aae5-6ea3e974064c",
   "metadata": {},
   "outputs": [],
   "source": []
  }
 ],
 "metadata": {
  "kernelspec": {
   "display_name": "Python 3 (ipykernel)",
   "language": "python",
   "name": "python3"
  },
  "language_info": {
   "codemirror_mode": {
    "name": "ipython",
    "version": 3
   },
   "file_extension": ".py",
   "mimetype": "text/x-python",
   "name": "python",
   "nbconvert_exporter": "python",
   "pygments_lexer": "ipython3",
   "version": "3.10.8"
  }
 },
 "nbformat": 4,
 "nbformat_minor": 5
}
