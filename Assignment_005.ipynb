{
 "cells": [
  {
   "cell_type": "code",
   "execution_count": 61,
   "id": "ec5ca93a-80b5-4fc9-b55c-95282ff20355",
   "metadata": {},
   "outputs": [
    {
     "name": "stdout",
     "output_type": "stream",
     "text": [
      "[1, 2, 3, 4, 44, 55, 66, 34, 56, 78, 89, 34, 1, 2, 3, 1, 34, 55, 67, 78, 89, 4, 45, 22, 61, 34, 56]\n",
      "4134711838987085478833841242112000\n"
     ]
    }
   ],
   "source": [
    "from functools import reduce\n",
    "def fn1(li):\n",
    "    fl=[]\n",
    "    \n",
    "    if type(li) is int:\n",
    "        fl.append(li)\n",
    "        return fl\n",
    "    for x in li:\n",
    "        if type(x) is int:\n",
    "            fl.append(x)\n",
    "        elif type(x) is list or type(x) is tuple:\n",
    "            fl=fl+fn1(x)\n",
    "        elif  type(x) is set:\n",
    "            fl=fl+list(x)    \n",
    "        elif type(x) is dict:\n",
    "            for y,z in x.items():\n",
    "                if type(y) is int:\n",
    "                    fl.append(y)\n",
    "                fl=fl+fn1(z)\n",
    "                \n",
    "    return fl        \n",
    "list1 = [1,2,3,4, [44,55,66, True], False, (34,56,78,89,34), {1,2,3,3,2,1}, {1:34, \"key2\": [55, 67, 78, 89], 4: (45,22, 61, 34)}, [56, 'data science'], 'Machine Learning']\n",
    "\n",
    "li=fn1(list1)\n",
    "print(li)\n",
    "\n",
    "ans=reduce(lambda x,y:x*y,li)\n",
    "print(ans)"
   ]
  },
  {
   "cell_type": "code",
   "execution_count": 89,
   "id": "50dd8a0c-db9f-4263-b644-51ca3875127c",
   "metadata": {},
   "outputs": [
    {
     "name": "stdout",
     "output_type": "stream",
     "text": [
      "R$dzmg$gl$yvxlnv$z$Wzgz$Hxrvmgrhg\n"
     ]
    }
   ],
   "source": [
    "str_1='I want to become a Data Scientist.'\n",
    "\n",
    "l1=[]\n",
    "\n",
    "for x in str_1:\n",
    "    if x.isupper():\n",
    "        l1.append(chr(ord('Z')-ord(x)+ord('A')))\n",
    "    elif x.islower():\n",
    "        l1.append(chr(ord('z')-ord(x)+ord('a')))\n",
    "    elif x==' ':\n",
    "        l1.append('$')\n",
    "print(''.join(l1))    "
   ]
  }
 ],
 "metadata": {
  "kernelspec": {
   "display_name": "Python 3 (ipykernel)",
   "language": "python",
   "name": "python3"
  },
  "language_info": {
   "codemirror_mode": {
    "name": "ipython",
    "version": 3
   },
   "file_extension": ".py",
   "mimetype": "text/x-python",
   "name": "python",
   "nbconvert_exporter": "python",
   "pygments_lexer": "ipython3",
   "version": "3.10.8"
  }
 },
 "nbformat": 4,
 "nbformat_minor": 5
}
