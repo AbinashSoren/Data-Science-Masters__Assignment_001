{
 "cells": [
  {
   "cell_type": "code",
   "execution_count": null,
   "id": "2f00826d-f5bc-434a-a08a-5732267577df",
   "metadata": {},
   "outputs": [],
   "source": [
    "# Q1. Explain with an example each when to use a for loop and a while loop.\n",
    "\n",
    "\n",
    "'For' loop is used when the number of iteraions are known:\n",
    "for e.g: \n",
    "\n",
    "s='abcdefghi-'\n",
    "for x in range(len(s)):\n",
    "    print(s[x],end=' ')\n",
    "\n",
    "print('\\n')\n",
    "\n",
    "\n",
    "Output: a b c d e f g h i -\n",
    "\n",
    "'While' loop is used when the number of iterations are not known ,and will not break untill the condtion is meet.\n",
    "for e.g:\n",
    "\n",
    "i=0\n",
    "while True:\n",
    "    if(s[i]=='-'):\n",
    "        break\n",
    "    print(s[i],end=' ')\n",
    "    i+=1\n",
    "    \n",
    "Output:a b c d e f g h i     "
   ]
  },
  {
   "cell_type": "code",
   "execution_count": 16,
   "id": "05c9b3d2-cb39-4c9f-b38f-32b9b7de6baa",
   "metadata": {},
   "outputs": [
    {
     "name": "stdin",
     "output_type": "stream",
     "text": [
      "Enter the limit 10\n"
     ]
    },
    {
     "name": "stdout",
     "output_type": "stream",
     "text": [
      "55\n",
      "3628800\n",
      "55\n",
      "3628800\n"
     ]
    }
   ],
   "source": [
    "# Q2. Write a python program to print the sum and product of the first 10 natural numbers using for\n",
    "# and while loop.\n",
    "\n",
    "n=int(input('Enter the limit'))\n",
    "Sum=0\n",
    "Pro=1\n",
    "for x in range(1,n+1,1):\n",
    "    Sum+=x\n",
    "    Pro*=x\n",
    "print(Sum)\n",
    "print(Pro)\n",
    "\n",
    "Sum=0\n",
    "Pro=1\n",
    "i=1\n",
    "\n",
    "while i<=n:\n",
    "    Sum+=i\n",
    "    Pro*=i\n",
    "    i+=1\n",
    "print(Sum)\n",
    "print(Pro)\n",
    "    \n"
   ]
  },
  {
   "cell_type": "code",
   "execution_count": 19,
   "id": "50092c69-4ab6-4112-92dd-9dc0cc134888",
   "metadata": {},
   "outputs": [
    {
     "name": "stdin",
     "output_type": "stream",
     "text": [
      "Enter the number of units 310\n"
     ]
    },
    {
     "name": "stdout",
     "output_type": "stream",
     "text": [
      "The Total Electricity Bill is :  2250.0\n"
     ]
    }
   ],
   "source": [
    "# Q3. Create a python program to compute the electricity bill for a household.\n",
    "\n",
    "# The per-unit charges in rupees are as follows: For the first 100 units, the user will be charged Rs. 4.5 per\n",
    "# unit, for the next 100 units, the user will be charged Rs. 6 per unit, and for the next 100 units, the user will\n",
    "# be charged Rs. 10 per unit, After 300 units and above the user will be charged Rs. 20 per unit.\n",
    "# You are required to take the units of electricity consumed in a month from the user as input.\n",
    "# Your program must pass this test case: when the unit of electricity consumed by the user in a month is\n",
    "# 310, the total electricity bill should be 2250.\n",
    "\n",
    "num_of_units=int(input('Enter the number of units'))\n",
    "total_cost=0\n",
    "\n",
    "if num_of_units>=0 and num_of_units<100:\n",
    "    total_cost+=num_of_units*4.5\n",
    "elif num_of_units>=100 and num_of_units<200:\n",
    "    total_cost+=(100*4.5)+(num_of_units-100)*6\n",
    "elif num_of_units>=200 and num_of_units<300:\n",
    "    total_cost+=(100*4.5)+(100*6)+(num_of_units-200)*10    \n",
    "else: \n",
    "    total_cost+=(100*4.5)+(100*6)+(100*10)+(num_of_units-300)*20\n",
    "print('The Total Electricity Bill is : ',total_cost)    "
   ]
  },
  {
   "cell_type": "code",
   "execution_count": 4,
   "id": "740fa0ac-fd7f-49f6-a04e-2f414585b3d8",
   "metadata": {},
   "outputs": [
    {
     "name": "stdout",
     "output_type": "stream",
     "text": [
      "[1, 2, 3, 4, 5, 6, 7, 8, 9, 10, 11, 12, 13, 14, 15, 16, 17, 18, 19, 20, 21, 22, 23, 24, 25, 26, 27, 28, 29, 30, 31, 32, 33, 34, 35, 36, 37, 38, 39, 40, 41, 42, 43, 44, 45, 46, 47, 48, 49, 50, 51, 52, 53, 54, 55, 56, 57, 58, 59, 60, 61, 62, 63, 64, 65, 66, 67, 68, 69, 70, 71, 72, 73, 74, 75, 76, 77, 78, 79, 80, 81, 82, 83, 84, 85, 86, 87, 88, 89, 90, 91, 92, 93, 94, 95, 96, 97, 98, 99, 100]\n",
      "\n",
      "The answer is with FOR loop :  [8, 64, 125, 216, 512, 1000, 1728, 2744, 3375, 4096, 5832, 8000, 10648, 13824, 15625, 17576, 21952, 27000, 32768, 39304, 42875, 46656, 54872, 64000, 74088, 85184, 91125, 97336, 110592, 125000, 140608, 157464, 166375, 175616, 195112, 216000, 238328, 262144, 274625, 287496, 314432, 343000, 373248, 405224, 421875, 438976, 474552, 512000, 551368, 592704, 614125, 636056, 681472, 729000, 778688, 830584, 857375, 884736, 941192, 1000000]\n",
      "The answer is with WHILE loop :  [8, 64, 125, 216, 512, 1000, 1728, 2744, 3375, 4096, 5832, 8000, 10648, 13824, 15625, 17576, 21952, 27000, 32768, 39304, 42875, 46656, 54872, 64000, 74088, 85184, 91125, 97336, 110592, 125000, 140608, 157464, 166375, 175616, 195112, 216000, 238328, 262144, 274625, 287496, 314432, 343000, 373248, 405224, 421875, 438976, 474552, 512000, 551368, 592704, 614125, 636056, 681472, 729000, 778688, 830584, 857375, 884736, 941192, 1000000]\n"
     ]
    }
   ],
   "source": [
    "# Q4. Create a list of numbers from 1 to 100. Use for loop and while loop to calculate the cube of each\n",
    "# number and if the cube of that number is divisible by 4 or 5 then append that number in a list and print\n",
    "# that list.\n",
    "\n",
    "l=list(range(1,101))\n",
    "print(l,end=\"\\n\\n\")\n",
    "ans=[]\n",
    "for x in l:\n",
    "    cu=x*x*x\n",
    "    if cu %4 ==0 or cu%5==0:\n",
    "        ans.append(cu)\n",
    "print('The answer  with FOR loop : ',ans)\n",
    "\n",
    "ans_1=[]\n",
    "i=0\n",
    "while i<len(l):\n",
    "    term=l[i]\n",
    "    cu=term*term*term\n",
    "    i+=1\n",
    "    if cu %4 ==0 or cu%5==0:\n",
    "        ans_1.append(cu)\n",
    "print('The answer  with WHILE loop : ',ans_1)"
   ]
  },
  {
   "cell_type": "code",
   "execution_count": 5,
   "id": "6bc48af0-e200-4a19-9a65-f7398128c7b2",
   "metadata": {},
   "outputs": [
    {
     "name": "stdout",
     "output_type": "stream",
     "text": [
      "The Number of Vowel are :  12\n",
      "The Vowels in the Given String are:  ['I', 'a', 'o', 'e', 'o', 'e', 'a', 'a', 'a', 'i', 'e', 'i']\n",
      "The Number of Consonant are :  15\n",
      "The Consonant in the Given String are:  ['w', 'n', 't', 't', 'b', 'c', 'm', 'd', 't', 's', 'c', 'n', 't', 's', 't']\n"
     ]
    }
   ],
   "source": [
    "# Write a program to filter count vowels in the below-given string.\n",
    "# string = \"I want to become a data scientist\"\n",
    "\n",
    "str_1 = \"I want to become a data scientist\"\n",
    "vowel=['a','e','i','o','u','A','E','I','O','U']\n",
    "\n",
    "num_v=[]\n",
    "num_c=[]\n",
    "for x in str_1:\n",
    "    if x in vowel:\n",
    "        num_v.append(x)\n",
    "    elif x==' ':\n",
    "        pass\n",
    "    else:\n",
    "        num_c.append(x)\n",
    "print(\"The Number of Vowel are : \",len(num_v))\n",
    "print(\"The Vowels in the Given String are: \",num_v)\n",
    "print(\"The Number of Consonant are : \",len(num_c))\n",
    "print(\"The Consonant in the Given String are: \",num_c)\n",
    "    \n",
    "\n"
   ]
  }
 ],
 "metadata": {
  "kernelspec": {
   "display_name": "Python 3 (ipykernel)",
   "language": "python",
   "name": "python3"
  },
  "language_info": {
   "codemirror_mode": {
    "name": "ipython",
    "version": 3
   },
   "file_extension": ".py",
   "mimetype": "text/x-python",
   "name": "python",
   "nbconvert_exporter": "python",
   "pygments_lexer": "ipython3",
   "version": "3.10.8"
  }
 },
 "nbformat": 4,
 "nbformat_minor": 5
}
